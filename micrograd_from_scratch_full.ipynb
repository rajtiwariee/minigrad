{
  "cells": [
    {
      "cell_type": "markdown",
      "source": [
        "## First half"
      ],
      "metadata": {
        "id": "q1kOTVMkGRBy"
      },
      "id": "q1kOTVMkGRBy"
    },
    {
      "cell_type": "code",
      "execution_count": null,
      "id": "231ef675-074d-4acb-a4c8-96055bd778a4",
      "metadata": {
        "id": "231ef675-074d-4acb-a4c8-96055bd778a4"
      },
      "outputs": [],
      "source": [
        "import math\n",
        "import numpy as np\n",
        "import matplotlib.pyplot as plt\n",
        "%matplotlib inline"
      ]
    },
    {
      "cell_type": "code",
      "execution_count": null,
      "id": "dd0ab1c2-2e05-471a-888b-d6ad032b7088",
      "metadata": {
        "id": "dd0ab1c2-2e05-471a-888b-d6ad032b7088"
      },
      "outputs": [],
      "source": [
        "def fn(x):\n",
        "    return 3*x**2 - 4*x + 5"
      ]
    },
    {
      "cell_type": "code",
      "execution_count": null,
      "id": "55302b13-447f-404f-b117-93636067b777",
      "metadata": {
        "id": "55302b13-447f-404f-b117-93636067b777",
        "outputId": "fe05044f-6149-4d23-fecb-c7f4de485d9d",
        "colab": {
          "base_uri": "https://localhost:8080/"
        }
      },
      "outputs": [
        {
          "output_type": "execute_result",
          "data": {
            "text/plain": [
              "9"
            ]
          },
          "metadata": {},
          "execution_count": 65
        }
      ],
      "source": [
        "fn(2)"
      ]
    },
    {
      "cell_type": "code",
      "execution_count": null,
      "id": "6a54e629-ecd6-4f72-b800-1a4c2d1d35d0",
      "metadata": {
        "id": "6a54e629-ecd6-4f72-b800-1a4c2d1d35d0",
        "outputId": "6a056699-e292-4823-b8ed-02306255806f",
        "colab": {
          "base_uri": "https://localhost:8080/",
          "height": 448
        }
      },
      "outputs": [
        {
          "output_type": "execute_result",
          "data": {
            "text/plain": [
              "[<matplotlib.lines.Line2D at 0x7daa22a23390>]"
            ]
          },
          "metadata": {},
          "execution_count": 66
        },
        {
          "output_type": "display_data",
          "data": {
            "text/plain": [
              "<Figure size 640x480 with 1 Axes>"
            ],
            "image/png": "[encoded data removed]"
          },
          "metadata": {}
        }
      ],
      "source": [
        "xs = np.arange(-4.5,5.0,0.25)\n",
        "ys = fn(xs)\n",
        "\n",
        "plt.plot(xs,ys)"
      ]
    },
    {
      "cell_type": "code",
      "execution_count": null,
      "id": "260a51b9-bae0-45a1-bb71-90a548ba2a06",
      "metadata": {
        "id": "260a51b9-bae0-45a1-bb71-90a548ba2a06",
        "outputId": "c9523db7-8c0a-49c7-a70e-766ff590e68d",
        "colab": {
          "base_uri": "https://localhost:8080/"
        }
      },
      "outputs": [
        {
          "output_type": "execute_result",
          "data": {
            "text/plain": [
              "14.000300000063248"
            ]
          },
          "metadata": {},
          "execution_count": 67
        }
      ],
      "source": [
        "#there are mostly two-three scenarios either the derivate/slope would go high or low or not move with any change in the input\n",
        "\n",
        "# A derivative tells us how much a function's output changes\n",
        "# in response to a very small change in its input (slope of the function)\n",
        "h = 0.0001 #very small value\n",
        "x = 3.0\n",
        "(fn(x+h) - fn(x))/h  #This tell dg/dx like how much g got changed after a small change in h\n",
        "#so its contributing 14 slope\n",
        "# It tells us how much fn(x) changes per unit change in x near x = 3.0\n",
        "# In other words, it gives the slope of the function at that point (df/dx or f'(x))"
      ]
    },
    {
      "cell_type": "code",
      "execution_count": null,
      "id": "a42726ef-bc8b-4d8e-9991-a4996f7bac78",
      "metadata": {
        "id": "a42726ef-bc8b-4d8e-9991-a4996f7bac78",
        "outputId": "4975b810-67c2-41b9-f06a-f33f94df12d5",
        "colab": {
          "base_uri": "https://localhost:8080/"
        }
      },
      "outputs": [
        {
          "output_type": "execute_result",
          "data": {
            "text/plain": [
              "2.999378523327323e-06"
            ]
          },
          "metadata": {},
          "execution_count": 68
        }
      ],
      "source": [
        "#Now at few scenario where the input is not affecting the function then the derivative (slope) of that function becomes zero\n",
        "h = 0.000001\n",
        "x = 2/3\n",
        "(fn(x+h)-fn(x))/h\n",
        "\n",
        "#"
      ]
    },
    {
      "cell_type": "code",
      "execution_count": null,
      "id": "b5bbc190-ac1f-42c2-9504-bb4846da937e",
      "metadata": {
        "id": "b5bbc190-ac1f-42c2-9504-bb4846da937e",
        "outputId": "dee849f6-f105-4344-eedd-3254d780be19",
        "colab": {
          "base_uri": "https://localhost:8080/"
        }
      },
      "outputs": [
        {
          "output_type": "stream",
          "name": "stdout",
          "text": [
            "4.0\n"
          ]
        }
      ],
      "source": [
        "#Lets get more complex\n",
        "\n",
        "a = 2.0\n",
        "b = -3.0\n",
        "c = 10.0\n",
        "\n",
        "d = a*b+c\n",
        "print(d)"
      ]
    },
    {
      "cell_type": "code",
      "execution_count": null,
      "id": "c52b6618-f0f6-48e8-9871-010d0ebf383c",
      "metadata": {
        "id": "c52b6618-f0f6-48e8-9871-010d0ebf383c",
        "outputId": "5916e60f-146f-4c28-ec9e-2cf05b2f6f0e",
        "colab": {
          "base_uri": "https://localhost:8080/"
        }
      },
      "outputs": [
        {
          "output_type": "stream",
          "name": "stdout",
          "text": [
            "d1 4.0\n",
            "d2 3.999699999999999\n",
            "slope -3.000000000010772\n"
          ]
        }
      ],
      "source": [
        "h = 0.0001\n",
        "\n",
        "#inputs\n",
        "a = 2.0\n",
        "b = -3.0\n",
        "c = 10.0\n",
        "\n",
        "d1 = a*b+ c\n",
        "a += h\n",
        "d2 = a*b+c\n",
        "\n",
        "print('d1',d1)\n",
        "print('d2',d2)\n",
        "print('slope',(d2-d1)/h)\n",
        "# Explanation:\n",
        "# We are approximating the derivative of the expression d = a * b + c with respect to 'a'.\n",
        "# This tells us how much the output 'd' changes when 'a' is increased by a small amount.\n",
        "# The expected slope is 'b', since d = a*b + c and ∂d/∂a = b.\n",
        "# So the derivative should be -3, which matches what we get from the slope."
      ]
    },
    {
      "cell_type": "code",
      "execution_count": null,
      "id": "7e48a3e1-1dd7-4da1-ab20-6f6a78e730b5",
      "metadata": {
        "id": "7e48a3e1-1dd7-4da1-ab20-6f6a78e730b5",
        "outputId": "d9584c27-8a87-48cd-879d-f2b38ef42bfe",
        "colab": {
          "base_uri": "https://localhost:8080/"
        }
      },
      "outputs": [
        {
          "output_type": "execute_result",
          "data": {
            "text/plain": [
              "Value(data = -8.0)"
            ]
          },
          "metadata": {},
          "execution_count": 71
        }
      ],
      "source": [
        "import math\n",
        "\n",
        "class Value:\n",
        "    def __init__(self,data, _children = (),_op = '',label = ''):\n",
        "        self.data = data\n",
        "        self._prev = set(_children)\n",
        "        self._op = _op #through this we would know from which equation it was derived\n",
        "        self.label = label\n",
        "        self.grad = 0.0 #if grad is 0 so this is not affecting the output\n",
        "        self._backward = lambda : None\n",
        "\n",
        "    def __repr__(self):\n",
        "        return f\"Value(data = {self.data})\"\n",
        "\n",
        "    def __add__(self,other):\n",
        "        out = Value((self.data + other.data),(self,other), '+')\n",
        "\n",
        "        def _backward():\n",
        "          self.grad += 1.0 * out.grad #we are accumulating the grad if we need to save the value\n",
        "          other.grad += 1.0 * out.grad\n",
        "\n",
        "        out._backward = _backward\n",
        "        return out\n",
        "\n",
        "    def __mul__(self,other):\n",
        "        out = Value((self.data * other.data),(self,other),'*')\n",
        "\n",
        "        def _backward():\n",
        "          self.grad += out.grad * other.data\n",
        "          other.grad += out.grad * self.data\n",
        "\n",
        "        out._backward = _backward\n",
        "        return out\n",
        "\n",
        "    def tanh(self):\n",
        "      x = self.data\n",
        "      t = (math.exp(2*x) - 1)/(math.exp(2*x) + 1)\n",
        "      out = Value(t, (self, ), 'tanh')\n",
        "\n",
        "      def _backward():\n",
        "        self.grad += (1-t**2) * out.grad\n",
        "\n",
        "      out._backward = _backward\n",
        "\n",
        "      return out\n",
        "\n",
        "    def backward(self):\n",
        "\n",
        "      topo = []\n",
        "      visited = set()\n",
        "      def build_topo(v):\n",
        "        if v not in visited:\n",
        "          visited.add(v)\n",
        "          for child in v._prev:\n",
        "            build_topo(child)\n",
        "          topo.append(v)\n",
        "      build_topo(self)\n",
        "\n",
        "      self.grad = 1.0\n",
        "      for node in reversed(topo):\n",
        "        node._backward()\n",
        "\n",
        "a = Value(3.0,label = 'a')\n",
        "b = Value(-1.0,label = 'b')\n",
        "\n",
        "# a + b #a.__add__(b)\n",
        "\n",
        "c = Value(-5.0,label = 'c')\n",
        "d = a*b ; d.label = 'd'\n",
        "e = d + c #(a.__mul__(b)).__add__(c)\n",
        "e.label = 'e'\n",
        "e"
      ]
    },
    {
      "cell_type": "code",
      "execution_count": null,
      "id": "084ab070-2131-46d4-a086-5829aef1c364",
      "metadata": {
        "id": "084ab070-2131-46d4-a086-5829aef1c364"
      },
      "outputs": [],
      "source": [
        "from graphviz import Digraph\n",
        "\n",
        "def trace(root):\n",
        "  # builds a set of all nodes and edges in a graph\n",
        "  nodes, edges = set(), set()\n",
        "  def build(v):\n",
        "    if v not in nodes:\n",
        "      nodes.add(v)\n",
        "      for child in v._prev:\n",
        "        edges.add((child, v))\n",
        "        build(child)\n",
        "  build(root)\n",
        "  return nodes, edges\n",
        "\n",
        "def draw_dot(root):\n",
        "  dot = Digraph(format='svg', graph_attr={'rankdir': 'LR'}) # LR = left to right\n",
        "\n",
        "  nodes, edges = trace(root)\n",
        "  for n in nodes:\n",
        "    uid = str(id(n))\n",
        "    # for any value in the graph, create a rectangular ('record') node for it\n",
        "    dot.node(name = uid, label = \"{ %s | data %.4f | grad %.2f}\" % (n.label, n.data,n.grad), shape='record')\n",
        "    if n._op:\n",
        "      # if this value is a result of some operation, create an op node for it\n",
        "      dot.node(name = uid + n._op, label = n._op)\n",
        "      # and connect this node to it\n",
        "      dot.edge(uid + n._op, uid)\n",
        "\n",
        "  for n1, n2 in edges:\n",
        "    # connect n1 to the op node of n2\n",
        "    dot.edge(str(id(n1)), str(id(n2)) + n2._op)\n",
        "\n",
        "  return dot"
      ]
    },
    {
      "cell_type": "code",
      "execution_count": null,
      "id": "730afcbf-9fe1-4b10-ae84-07c0b8f1c235",
      "metadata": {
        "id": "730afcbf-9fe1-4b10-ae84-07c0b8f1c235",
        "outputId": "ba903e95-fc9f-4db4-bbba-83bee7ada15b",
        "colab": {
          "base_uri": "https://localhost:8080/",
          "height": 192
        }
      },
      "outputs": [
        {
          "output_type": "execute_result",
          "data": {
            "image/svg+xml": "<?xml version=\"1.0\" encoding=\"UTF-8\" standalone=\"no\"?>\n<!DOCTYPE svg PUBLIC \"-//W3C//DTD SVG 1.1//EN\"\n \"http://www.w3.org/Graphics/SVG/1.1/DTD/svg11.dtd\">\n<!-- Generated by graphviz version 2.43.0 (0)\n -->\n<!-- Title: %3 Pages: 1 -->\n<svg width=\"788pt\" height=\"128pt\"\n viewBox=\"0.00 0.00 788.00 128.00\" xmlns=\"http://www.w3.org/2000/svg\" xmlns:xlink=\"http://www.w3.org/1999/xlink\">\n<g id=\"graph0\" class=\"graph\" transform=\"scale(1 1) rotate(0) translate(4 124)\">\n<title>%3</title>\n<polygon fill=\"white\" stroke=\"transparent\" points=\"-4,4 -4,-124 784,-124 784,4 -4,4\"/>\n<!-- 138169382276496 -->\n<g id=\"node1\" class=\"node\">\n<title>138169382276496</title>\n<polygon fill=\"none\" stroke=\"black\" points=\"2.5,-83.5 2.5,-119.5 173.5,-119.5 173.5,-83.5 2.5,-83.5\"/>\n<text text-anchor=\"middle\" x=\"14\" y=\"-97.8\" font-family=\"Times,serif\" font-size=\"14.00\">a</text>\n<polyline fill=\"none\" stroke=\"black\" points=\"25.5,-83.5 25.5,-119.5 \"/>\n<text text-anchor=\"middle\" x=\"65.5\" y=\"-97.8\" font-family=\"Times,serif\" font-size=\"14.00\">data 3.0000</text>\n<polyline fill=\"none\" stroke=\"black\" points=\"105.5,-83.5 105.5,-119.5 \"/>\n<text text-anchor=\"middle\" x=\"139.5\" y=\"-97.8\" font-family=\"Times,serif\" font-size=\"14.00\">grad 0.00</text>\n</g>\n<!-- 138169382204880* -->\n<g id=\"node7\" class=\"node\">\n<title>138169382204880*</title>\n<ellipse fill=\"none\" stroke=\"black\" cx=\"239\" cy=\"-73.5\" rx=\"27\" ry=\"18\"/>\n<text text-anchor=\"middle\" x=\"239\" y=\"-69.8\" font-family=\"Times,serif\" font-size=\"14.00\">*</text>\n</g>\n<!-- 138169382276496&#45;&gt;138169382204880* -->\n<g id=\"edge5\" class=\"edge\">\n<title>138169382276496&#45;&gt;138169382204880*</title>\n<path fill=\"none\" stroke=\"black\" d=\"M173.51,-85.62C183.8,-83.68 193.84,-81.8 202.8,-80.11\"/>\n<polygon fill=\"black\" stroke=\"black\" points=\"203.61,-83.52 212.79,-78.24 202.32,-76.64 203.61,-83.52\"/>\n</g>\n<!-- 138169382276432 -->\n<g id=\"node2\" class=\"node\">\n<title>138169382276432</title>\n<polygon fill=\"none\" stroke=\"black\" points=\"604,-27.5 604,-63.5 780,-63.5 780,-27.5 604,-27.5\"/>\n<text text-anchor=\"middle\" x=\"615.5\" y=\"-41.8\" font-family=\"Times,serif\" font-size=\"14.00\">e</text>\n<polyline fill=\"none\" stroke=\"black\" points=\"627,-27.5 627,-63.5 \"/>\n<text text-anchor=\"middle\" x=\"669.5\" y=\"-41.8\" font-family=\"Times,serif\" font-size=\"14.00\">data &#45;8.0000</text>\n<polyline fill=\"none\" stroke=\"black\" points=\"712,-27.5 712,-63.5 \"/>\n<text text-anchor=\"middle\" x=\"746\" y=\"-41.8\" font-family=\"Times,serif\" font-size=\"14.00\">grad 0.00</text>\n</g>\n<!-- 138169382276432+ -->\n<g id=\"node3\" class=\"node\">\n<title>138169382276432+</title>\n<ellipse fill=\"none\" stroke=\"black\" cx=\"541\" cy=\"-45.5\" rx=\"27\" ry=\"18\"/>\n<text text-anchor=\"middle\" x=\"541\" y=\"-41.8\" font-family=\"Times,serif\" font-size=\"14.00\">+</text>\n</g>\n<!-- 138169382276432+&#45;&gt;138169382276432 -->\n<g id=\"edge1\" class=\"edge\">\n<title>138169382276432+&#45;&gt;138169382276432</title>\n<path fill=\"none\" stroke=\"black\" d=\"M568.3,-45.5C575.84,-45.5 584.54,-45.5 593.76,-45.5\"/>\n<polygon fill=\"black\" stroke=\"black\" points=\"593.93,-49 603.93,-45.5 593.93,-42 593.93,-49\"/>\n</g>\n<!-- 138169678924624 -->\n<g id=\"node4\" class=\"node\">\n<title>138169678924624</title>\n<polygon fill=\"none\" stroke=\"black\" points=\"0,-28.5 0,-64.5 176,-64.5 176,-28.5 0,-28.5\"/>\n<text text-anchor=\"middle\" x=\"11.5\" y=\"-42.8\" font-family=\"Times,serif\" font-size=\"14.00\">b</text>\n<polyline fill=\"none\" stroke=\"black\" points=\"23,-28.5 23,-64.5 \"/>\n<text text-anchor=\"middle\" x=\"65.5\" y=\"-42.8\" font-family=\"Times,serif\" font-size=\"14.00\">data &#45;1.0000</text>\n<polyline fill=\"none\" stroke=\"black\" points=\"108,-28.5 108,-64.5 \"/>\n<text text-anchor=\"middle\" x=\"142\" y=\"-42.8\" font-family=\"Times,serif\" font-size=\"14.00\">grad 0.00</text>\n</g>\n<!-- 138169678924624&#45;&gt;138169382204880* -->\n<g id=\"edge4\" class=\"edge\">\n<title>138169678924624&#45;&gt;138169382204880*</title>\n<path fill=\"none\" stroke=\"black\" d=\"M176.11,-62.28C185.51,-63.99 194.64,-65.64 202.86,-67.13\"/>\n<polygon fill=\"black\" stroke=\"black\" points=\"202.3,-70.59 212.76,-68.93 203.54,-63.7 202.3,-70.59\"/>\n</g>\n<!-- 138169678928272 -->\n<g id=\"node5\" class=\"node\">\n<title>138169678928272</title>\n<polygon fill=\"none\" stroke=\"black\" points=\"302,-0.5 302,-36.5 478,-36.5 478,-0.5 302,-0.5\"/>\n<text text-anchor=\"middle\" x=\"313.5\" y=\"-14.8\" font-family=\"Times,serif\" font-size=\"14.00\">c</text>\n<polyline fill=\"none\" stroke=\"black\" points=\"325,-0.5 325,-36.5 \"/>\n<text text-anchor=\"middle\" x=\"367.5\" y=\"-14.8\" font-family=\"Times,serif\" font-size=\"14.00\">data &#45;5.0000</text>\n<polyline fill=\"none\" stroke=\"black\" points=\"410,-0.5 410,-36.5 \"/>\n<text text-anchor=\"middle\" x=\"444\" y=\"-14.8\" font-family=\"Times,serif\" font-size=\"14.00\">grad 0.00</text>\n</g>\n<!-- 138169678928272&#45;&gt;138169382276432+ -->\n<g id=\"edge3\" class=\"edge\">\n<title>138169678928272&#45;&gt;138169382276432+</title>\n<path fill=\"none\" stroke=\"black\" d=\"M478.11,-34.28C487.51,-35.99 496.64,-37.64 504.86,-39.13\"/>\n<polygon fill=\"black\" stroke=\"black\" points=\"504.3,-42.59 514.76,-40.93 505.54,-35.7 504.3,-42.59\"/>\n</g>\n<!-- 138169382204880 -->\n<g id=\"node6\" class=\"node\">\n<title>138169382204880</title>\n<polygon fill=\"none\" stroke=\"black\" points=\"302,-55.5 302,-91.5 478,-91.5 478,-55.5 302,-55.5\"/>\n<text text-anchor=\"middle\" x=\"313.5\" y=\"-69.8\" font-family=\"Times,serif\" font-size=\"14.00\">d</text>\n<polyline fill=\"none\" stroke=\"black\" points=\"325,-55.5 325,-91.5 \"/>\n<text text-anchor=\"middle\" x=\"367.5\" y=\"-69.8\" font-family=\"Times,serif\" font-size=\"14.00\">data &#45;3.0000</text>\n<polyline fill=\"none\" stroke=\"black\" points=\"410,-55.5 410,-91.5 \"/>\n<text text-anchor=\"middle\" x=\"444\" y=\"-69.8\" font-family=\"Times,serif\" font-size=\"14.00\">grad 0.00</text>\n</g>\n<!-- 138169382204880&#45;&gt;138169382276432+ -->\n<g id=\"edge6\" class=\"edge\">\n<title>138169382204880&#45;&gt;138169382276432+</title>\n<path fill=\"none\" stroke=\"black\" d=\"M478.11,-57.13C487.51,-55.36 496.64,-53.65 504.86,-52.1\"/>\n<polygon fill=\"black\" stroke=\"black\" points=\"505.58,-55.53 514.76,-50.24 504.29,-48.65 505.58,-55.53\"/>\n</g>\n<!-- 138169382204880*&#45;&gt;138169382204880 -->\n<g id=\"edge2\" class=\"edge\">\n<title>138169382204880*&#45;&gt;138169382204880</title>\n<path fill=\"none\" stroke=\"black\" d=\"M266.3,-73.5C273.84,-73.5 282.54,-73.5 291.76,-73.5\"/>\n<polygon fill=\"black\" stroke=\"black\" points=\"291.93,-77 301.93,-73.5 291.93,-70 291.93,-77\"/>\n</g>\n</g>\n</svg>\n",
            "text/plain": [
              "<graphviz.graphs.Digraph at 0x7daa10f2dbd0>"
            ]
          },
          "metadata": {},
          "execution_count": 75
        }
      ],
      "source": [
        "#Here we get the complete flow how d was derived\n",
        "#now we will do the backpropagation and calculate the gradients of the output w.r.t to each node\n",
        "#so we will see how output is changing w.r.t to change in the node value -> it will give us the slope/derivative\n",
        "#which represents the change in the value of a node which is affecting the output\n",
        "draw_dot(e)"
      ]
    },
    {
      "cell_type": "code",
      "source": [
        "# e = c + d\n",
        "\n",
        "# de/dc = ? #if there's a change in c of h amount what would be change or the slope/derivative would be\n",
        "\n",
        "# #if we take a derivative normally\n",
        "# de/dc = d\n",
        "\n",
        "\n",
        "# #if we consider it through the formula\n",
        "\n",
        "# f(x+h) - f(x)/h\n",
        "\n",
        "# ((c+h) + d) - (c+d)/h\n",
        "# h /h\n",
        "\n"
      ],
      "metadata": {
        "id": "Y0L4mgt15IAR"
      },
      "id": "Y0L4mgt15IAR",
      "execution_count": null,
      "outputs": []
    },
    {
      "cell_type": "code",
      "source": [
        "draw_dot(e)"
      ],
      "metadata": {
        "colab": {
          "base_uri": "https://localhost:8080/",
          "height": 192
        },
        "id": "oT7EaKey5CP9",
        "outputId": "b0059ef0-f507-4bed-ce0d-b34d707d7336"
      },
      "id": "oT7EaKey5CP9",
      "execution_count": null,
      "outputs": [
        {
          "output_type": "execute_result",
          "data": {
            "image/svg+xml": "<?xml version=\"1.0\" encoding=\"UTF-8\" standalone=\"no\"?>\n<!DOCTYPE svg PUBLIC \"-//W3C//DTD SVG 1.1//EN\"\n \"http://www.w3.org/Graphics/SVG/1.1/DTD/svg11.dtd\">\n<!-- Generated by graphviz version 2.43.0 (0)\n -->\n<!-- Title: %3 Pages: 1 -->\n<svg width=\"788pt\" height=\"128pt\"\n viewBox=\"0.00 0.00 788.00 128.00\" xmlns=\"http://www.w3.org/2000/svg\" xmlns:xlink=\"http://www.w3.org/1999/xlink\">\n<g id=\"graph0\" class=\"graph\" transform=\"scale(1 1) rotate(0) translate(4 124)\">\n<title>%3</title>\n<polygon fill=\"white\" stroke=\"transparent\" points=\"-4,4 -4,-124 784,-124 784,4 -4,4\"/>\n<!-- 138169382276496 -->\n<g id=\"node1\" class=\"node\">\n<title>138169382276496</title>\n<polygon fill=\"none\" stroke=\"black\" points=\"0,-83.5 0,-119.5 176,-119.5 176,-83.5 0,-83.5\"/>\n<text text-anchor=\"middle\" x=\"11.5\" y=\"-97.8\" font-family=\"Times,serif\" font-size=\"14.00\">a</text>\n<polyline fill=\"none\" stroke=\"black\" points=\"23,-83.5 23,-119.5 \"/>\n<text text-anchor=\"middle\" x=\"63\" y=\"-97.8\" font-family=\"Times,serif\" font-size=\"14.00\">data 3.0000</text>\n<polyline fill=\"none\" stroke=\"black\" points=\"103,-83.5 103,-119.5 \"/>\n<text text-anchor=\"middle\" x=\"139.5\" y=\"-97.8\" font-family=\"Times,serif\" font-size=\"14.00\">grad &#45;1.00</text>\n</g>\n<!-- 138169382204880* -->\n<g id=\"node7\" class=\"node\">\n<title>138169382204880*</title>\n<ellipse fill=\"none\" stroke=\"black\" cx=\"239\" cy=\"-73.5\" rx=\"27\" ry=\"18\"/>\n<text text-anchor=\"middle\" x=\"239\" y=\"-69.8\" font-family=\"Times,serif\" font-size=\"14.00\">*</text>\n</g>\n<!-- 138169382276496&#45;&gt;138169382204880* -->\n<g id=\"edge5\" class=\"edge\">\n<title>138169382276496&#45;&gt;138169382204880*</title>\n<path fill=\"none\" stroke=\"black\" d=\"M176.11,-85.13C185.51,-83.36 194.64,-81.65 202.86,-80.1\"/>\n<polygon fill=\"black\" stroke=\"black\" points=\"203.58,-83.53 212.76,-78.24 202.29,-76.65 203.58,-83.53\"/>\n</g>\n<!-- 138169382276432 -->\n<g id=\"node2\" class=\"node\">\n<title>138169382276432</title>\n<polygon fill=\"none\" stroke=\"black\" points=\"604,-27.5 604,-63.5 780,-63.5 780,-27.5 604,-27.5\"/>\n<text text-anchor=\"middle\" x=\"615.5\" y=\"-41.8\" font-family=\"Times,serif\" font-size=\"14.00\">e</text>\n<polyline fill=\"none\" stroke=\"black\" points=\"627,-27.5 627,-63.5 \"/>\n<text text-anchor=\"middle\" x=\"669.5\" y=\"-41.8\" font-family=\"Times,serif\" font-size=\"14.00\">data &#45;8.0000</text>\n<polyline fill=\"none\" stroke=\"black\" points=\"712,-27.5 712,-63.5 \"/>\n<text text-anchor=\"middle\" x=\"746\" y=\"-41.8\" font-family=\"Times,serif\" font-size=\"14.00\">grad 1.00</text>\n</g>\n<!-- 138169382276432+ -->\n<g id=\"node3\" class=\"node\">\n<title>138169382276432+</title>\n<ellipse fill=\"none\" stroke=\"black\" cx=\"541\" cy=\"-45.5\" rx=\"27\" ry=\"18\"/>\n<text text-anchor=\"middle\" x=\"541\" y=\"-41.8\" font-family=\"Times,serif\" font-size=\"14.00\">+</text>\n</g>\n<!-- 138169382276432+&#45;&gt;138169382276432 -->\n<g id=\"edge1\" class=\"edge\">\n<title>138169382276432+&#45;&gt;138169382276432</title>\n<path fill=\"none\" stroke=\"black\" d=\"M568.3,-45.5C575.84,-45.5 584.54,-45.5 593.76,-45.5\"/>\n<polygon fill=\"black\" stroke=\"black\" points=\"593.93,-49 603.93,-45.5 593.93,-42 593.93,-49\"/>\n</g>\n<!-- 138169678924624 -->\n<g id=\"node4\" class=\"node\">\n<title>138169678924624</title>\n<polygon fill=\"none\" stroke=\"black\" points=\"0,-28.5 0,-64.5 176,-64.5 176,-28.5 0,-28.5\"/>\n<text text-anchor=\"middle\" x=\"11.5\" y=\"-42.8\" font-family=\"Times,serif\" font-size=\"14.00\">b</text>\n<polyline fill=\"none\" stroke=\"black\" points=\"23,-28.5 23,-64.5 \"/>\n<text text-anchor=\"middle\" x=\"65.5\" y=\"-42.8\" font-family=\"Times,serif\" font-size=\"14.00\">data &#45;1.0000</text>\n<polyline fill=\"none\" stroke=\"black\" points=\"108,-28.5 108,-64.5 \"/>\n<text text-anchor=\"middle\" x=\"142\" y=\"-42.8\" font-family=\"Times,serif\" font-size=\"14.00\">grad 3.00</text>\n</g>\n<!-- 138169678924624&#45;&gt;138169382204880* -->\n<g id=\"edge4\" class=\"edge\">\n<title>138169678924624&#45;&gt;138169382204880*</title>\n<path fill=\"none\" stroke=\"black\" d=\"M176.11,-62.28C185.51,-63.99 194.64,-65.64 202.86,-67.13\"/>\n<polygon fill=\"black\" stroke=\"black\" points=\"202.3,-70.59 212.76,-68.93 203.54,-63.7 202.3,-70.59\"/>\n</g>\n<!-- 138169678928272 -->\n<g id=\"node5\" class=\"node\">\n<title>138169678928272</title>\n<polygon fill=\"none\" stroke=\"black\" points=\"302,-0.5 302,-36.5 478,-36.5 478,-0.5 302,-0.5\"/>\n<text text-anchor=\"middle\" x=\"313.5\" y=\"-14.8\" font-family=\"Times,serif\" font-size=\"14.00\">c</text>\n<polyline fill=\"none\" stroke=\"black\" points=\"325,-0.5 325,-36.5 \"/>\n<text text-anchor=\"middle\" x=\"367.5\" y=\"-14.8\" font-family=\"Times,serif\" font-size=\"14.00\">data &#45;5.0000</text>\n<polyline fill=\"none\" stroke=\"black\" points=\"410,-0.5 410,-36.5 \"/>\n<text text-anchor=\"middle\" x=\"444\" y=\"-14.8\" font-family=\"Times,serif\" font-size=\"14.00\">grad 1.00</text>\n</g>\n<!-- 138169678928272&#45;&gt;138169382276432+ -->\n<g id=\"edge3\" class=\"edge\">\n<title>138169678928272&#45;&gt;138169382276432+</title>\n<path fill=\"none\" stroke=\"black\" d=\"M478.11,-34.28C487.51,-35.99 496.64,-37.64 504.86,-39.13\"/>\n<polygon fill=\"black\" stroke=\"black\" points=\"504.3,-42.59 514.76,-40.93 505.54,-35.7 504.3,-42.59\"/>\n</g>\n<!-- 138169382204880 -->\n<g id=\"node6\" class=\"node\">\n<title>138169382204880</title>\n<polygon fill=\"none\" stroke=\"black\" points=\"302,-55.5 302,-91.5 478,-91.5 478,-55.5 302,-55.5\"/>\n<text text-anchor=\"middle\" x=\"313.5\" y=\"-69.8\" font-family=\"Times,serif\" font-size=\"14.00\">d</text>\n<polyline fill=\"none\" stroke=\"black\" points=\"325,-55.5 325,-91.5 \"/>\n<text text-anchor=\"middle\" x=\"367.5\" y=\"-69.8\" font-family=\"Times,serif\" font-size=\"14.00\">data &#45;3.0000</text>\n<polyline fill=\"none\" stroke=\"black\" points=\"410,-55.5 410,-91.5 \"/>\n<text text-anchor=\"middle\" x=\"444\" y=\"-69.8\" font-family=\"Times,serif\" font-size=\"14.00\">grad 0.99</text>\n</g>\n<!-- 138169382204880&#45;&gt;138169382276432+ -->\n<g id=\"edge6\" class=\"edge\">\n<title>138169382204880&#45;&gt;138169382276432+</title>\n<path fill=\"none\" stroke=\"black\" d=\"M478.11,-57.13C487.51,-55.36 496.64,-53.65 504.86,-52.1\"/>\n<polygon fill=\"black\" stroke=\"black\" points=\"505.58,-55.53 514.76,-50.24 504.29,-48.65 505.58,-55.53\"/>\n</g>\n<!-- 138169382204880*&#45;&gt;138169382204880 -->\n<g id=\"edge2\" class=\"edge\">\n<title>138169382204880*&#45;&gt;138169382204880</title>\n<path fill=\"none\" stroke=\"black\" d=\"M266.3,-73.5C273.84,-73.5 282.54,-73.5 291.76,-73.5\"/>\n<polygon fill=\"black\" stroke=\"black\" points=\"291.93,-77 301.93,-73.5 291.93,-70 291.93,-77\"/>\n</g>\n</g>\n</svg>\n",
            "text/plain": [
              "<graphviz.graphs.Digraph at 0x7daa10f1eb10>"
            ]
          },
          "metadata": {},
          "execution_count": 79
        }
      ]
    },
    {
      "cell_type": "code",
      "source": [
        "a.data += 0.01 * a.grad\n",
        "b.data += 0.01 * b.grad\n",
        "c.data += 0.01 * c.grad\n",
        "d.data += 0.01 * d.grad\n",
        "\n",
        "e = d + c\n",
        "print(e.data)"
      ],
      "metadata": {
        "colab": {
          "base_uri": "https://localhost:8080/"
        },
        "id": "9ahmWQpnhw4K",
        "outputId": "256b93bf-b067-4e4d-a749-f83ef6bb083c"
      },
      "id": "9ahmWQpnhw4K",
      "execution_count": null,
      "outputs": [
        {
          "output_type": "stream",
          "name": "stdout",
          "text": [
            "-7.9801\n"
          ]
        }
      ]
    },
    {
      "cell_type": "markdown",
      "source": [
        "### Chain rule ⭐\n",
        "\n",
        "\n",
        "1. if i wanna know how my output e is chainging w.r.t to a we will need to apply chain rule\n",
        "2. we can easily know how d is contributing to the output similarly if i wanna know how a is contributing to the output we will need to do the chain rule\n",
        "\n",
        "we wanna know how my output e is changing if there's change in a de/da\n",
        "\n",
        "\n",
        "```\n",
        "d = a * b\n",
        "\n",
        "dd/db = a\n",
        "dd/da = b\n",
        "```\n",
        "\n",
        "\n",
        "\n",
        "WANT :\n",
        "\n",
        "`de / da = (de / dd) * (dd / da)`\n",
        "\n",
        "so you can see how we backward and calculate it\n",
        "so we already knew de/dd and dd/da was a local thing which we knew we used and multiplied and we got to know how a is affecting the output e\n",
        "\n",
        "\n",
        "\n",
        "\n",
        "**IMP**\n",
        "\n",
        "1. So when do the + operation the gradients flowing backward is always the same so n = z + b so the gradient of z and b would be always equals to the n .... if we take the derivative of the dn/dz = 1, dn/db = 1\n",
        "\n",
        "if we apply the chain rule\n",
        "\n",
        "\n",
        "\n",
        "```\n",
        "dL/dz = dL/dn * dn/dz = dL/dn * 1 = dL/dn = grad(n)\n",
        "dL/db = dL/dn * dn/db = dL/dn * 1 = dL/dn = grad(n)\n",
        "```\n",
        "\n",
        "\n"
      ],
      "metadata": {
        "id": "-r7-mivYClwT"
      },
      "id": "-r7-mivYClwT"
    },
    {
      "cell_type": "code",
      "source": [
        "0.99 * -1 #de/dd * dd/da = 0.99 * -1 = -0.99 Through the chain rule we got to know how a was affecting the output"
      ],
      "metadata": {
        "colab": {
          "base_uri": "https://localhost:8080/"
        },
        "id": "FXvlKDapCd51",
        "outputId": "637507e4-a637-45ff-e08e-ccee391a744e"
      },
      "id": "FXvlKDapCd51",
      "execution_count": null,
      "outputs": [
        {
          "output_type": "execute_result",
          "data": {
            "text/plain": [
              "-0.99"
            ]
          },
          "metadata": {},
          "execution_count": 81
        }
      ]
    },
    {
      "cell_type": "code",
      "execution_count": null,
      "id": "bfe6a956-4292-4a64-a101-89f9e3c5a73e",
      "metadata": {
        "id": "bfe6a956-4292-4a64-a101-89f9e3c5a73e",
        "colab": {
          "base_uri": "https://localhost:8080/"
        },
        "outputId": "a5e69806-044d-4083-e2af-732a16c580e3"
      },
      "outputs": [
        {
          "output_type": "stream",
          "name": "stdout",
          "text": [
            "-0.9999999999994458\n"
          ]
        }
      ],
      "source": [
        "def lol():\n",
        "  h = 0.001\n",
        "\n",
        "  a = Value(3.0,label = 'a')\n",
        "  b = Value(-1.0,label = 'b')\n",
        "\n",
        "  # a + b #a.__add__(b)\n",
        "\n",
        "  c = Value(-5.0,label = 'c')\n",
        "  d = a*b ; d._label = 'd'\n",
        "  e = d + c #(a.__mul__(b)).__add__(c)\n",
        "  e._label = 'e'\n",
        "  L1 = e.data\n",
        "\n",
        "  a = Value(3.0+h,label = 'a')\n",
        "  b = Value(-1.0,label = 'b')\n",
        "\n",
        "  # a + b #a.__add__(b)\n",
        "\n",
        "  c = Value(-5.0,label = 'c')\n",
        "  d = a*b ; d._label = 'd'\n",
        "  e = d + c #(a.__mul__(b)).__add__(c)\n",
        "  e._label = 'e'\n",
        "  L2 = e.data\n",
        "  # L2 += h #we added to the output what would be the slope of output w.r.t output -> its always 1\n",
        "\n",
        "  print(f'{(L2-L1)/h}')\n",
        "\n",
        "lol()\n"
      ]
    },
    {
      "cell_type": "code",
      "execution_count": null,
      "id": "b36cf9cd-8738-42f3-a643-e2c2957d8825",
      "metadata": {
        "id": "b36cf9cd-8738-42f3-a643-e2c2957d8825",
        "colab": {
          "base_uri": "https://localhost:8080/",
          "height": 430
        },
        "outputId": "391f4528-03b5-451a-8f8c-920d26913783"
      },
      "outputs": [
        {
          "output_type": "display_data",
          "data": {
            "text/plain": [
              "<Figure size 640x480 with 1 Axes>"
            ],
            "image/png": "[encoded data removed]"
          },
          "metadata": {}
        }
      ],
      "source": [
        "plt.plot(np.arange(-5,5,0.2), np.tanh(np.arange(-5,5,0.2))); plt.grid();"
      ]
    },
    {
      "cell_type": "code",
      "execution_count": null,
      "id": "62d1fcf3-dc0e-48b9-b722-393987e629bb",
      "metadata": {
        "id": "62d1fcf3-dc0e-48b9-b722-393987e629bb"
      },
      "outputs": [],
      "source": [
        "# inputs x1,x2\n",
        "x1 = Value(2.0, label='x1')\n",
        "x2 = Value(0.0, label='x2')\n",
        "# weights w1,w2\n",
        "w1 = Value(-3.0, label='w1')\n",
        "w2 = Value(1.0, label='w2')\n",
        "# bias of the neuron\n",
        "b = Value(6.8813735870195432, label='b')\n",
        "# x1*w1 + x2*w2 + b\n",
        "x1w1 = x1*w1; x1w1.label = 'x1*w1'\n",
        "x2w2 = x2*w2; x2w2.label = 'x2*w2'\n",
        "x1w1x2w2 = x1w1 + x2w2; x1w1x2w2.label = 'x1*w1 + x2*w2'\n",
        "n = x1w1x2w2 + b; n.label = 'n'\n",
        "o = n.tanh(); o.label = 'o'"
      ]
    },
    {
      "cell_type": "code",
      "execution_count": null,
      "id": "e907e65c-72be-4f95-a5d8-60288d9e1abb",
      "metadata": {
        "id": "e907e65c-72be-4f95-a5d8-60288d9e1abb",
        "colab": {
          "base_uri": "https://localhost:8080/",
          "height": 321
        },
        "outputId": "b9806947-dfb2-4e82-a9f6-a7bbc96b961e"
      },
      "outputs": [
        {
          "output_type": "execute_result",
          "data": {
            "image/svg+xml": "<?xml version=\"1.0\" encoding=\"UTF-8\" standalone=\"no\"?>\n<!DOCTYPE svg PUBLIC \"-//W3C//DTD SVG 1.1//EN\"\n \"http://www.w3.org/Graphics/SVG/1.1/DTD/svg11.dtd\">\n<!-- Generated by graphviz version 2.43.0 (0)\n -->\n<!-- Title: %3 Pages: 1 -->\n<svg width=\"1505pt\" height=\"210pt\"\n viewBox=\"0.00 0.00 1505.00 210.00\" xmlns=\"http://www.w3.org/2000/svg\" xmlns:xlink=\"http://www.w3.org/1999/xlink\">\n<g id=\"graph0\" class=\"graph\" transform=\"scale(1 1) rotate(0) translate(4 206)\">\n<title>%3</title>\n<polygon fill=\"white\" stroke=\"transparent\" points=\"-4,4 -4,-206 1501,-206 1501,4 -4,4\"/>\n<!-- 138169644896848 -->\n<g id=\"node1\" class=\"node\">\n<title>138169644896848</title>\n<polygon fill=\"none\" stroke=\"black\" points=\"0,-165.5 0,-201.5 186,-201.5 186,-165.5 0,-165.5\"/>\n<text text-anchor=\"middle\" x=\"16.5\" y=\"-179.8\" font-family=\"Times,serif\" font-size=\"14.00\">w1</text>\n<polyline fill=\"none\" stroke=\"black\" points=\"33,-165.5 33,-201.5 \"/>\n<text text-anchor=\"middle\" x=\"75.5\" y=\"-179.8\" font-family=\"Times,serif\" font-size=\"14.00\">data &#45;3.0000</text>\n<polyline fill=\"none\" stroke=\"black\" points=\"118,-165.5 118,-201.5 \"/>\n<text text-anchor=\"middle\" x=\"152\" y=\"-179.8\" font-family=\"Times,serif\" font-size=\"14.00\">grad 0.00</text>\n</g>\n<!-- 138169678909264* -->\n<g id=\"node13\" class=\"node\">\n<title>138169678909264*</title>\n<ellipse fill=\"none\" stroke=\"black\" cx=\"249\" cy=\"-128.5\" rx=\"27\" ry=\"18\"/>\n<text text-anchor=\"middle\" x=\"249\" y=\"-124.8\" font-family=\"Times,serif\" font-size=\"14.00\">*</text>\n</g>\n<!-- 138169644896848&#45;&gt;138169678909264* -->\n<g id=\"edge6\" class=\"edge\">\n<title>138169644896848&#45;&gt;138169678909264*</title>\n<path fill=\"none\" stroke=\"black\" d=\"M159.7,-165.43C168.6,-162.63 177.57,-159.62 186,-156.5 196.49,-152.61 207.71,-147.77 217.68,-143.21\"/>\n<polygon fill=\"black\" stroke=\"black\" points=\"219.2,-146.36 226.79,-138.96 216.24,-140.01 219.2,-146.36\"/>\n</g>\n<!-- 138169382201808 -->\n<g id=\"node2\" class=\"node\">\n<title>138169382201808</title>\n<polygon fill=\"none\" stroke=\"black\" points=\"1326,-54.5 1326,-90.5 1497,-90.5 1497,-54.5 1326,-54.5\"/>\n<text text-anchor=\"middle\" x=\"1337.5\" y=\"-68.8\" font-family=\"Times,serif\" font-size=\"14.00\">o</text>\n<polyline fill=\"none\" stroke=\"black\" points=\"1349,-54.5 1349,-90.5 \"/>\n<text text-anchor=\"middle\" x=\"1389\" y=\"-68.8\" font-family=\"Times,serif\" font-size=\"14.00\">data 0.7071</text>\n<polyline fill=\"none\" stroke=\"black\" points=\"1429,-54.5 1429,-90.5 \"/>\n<text text-anchor=\"middle\" x=\"1463\" y=\"-68.8\" font-family=\"Times,serif\" font-size=\"14.00\">grad 0.00</text>\n</g>\n<!-- 138169382201808tanh -->\n<g id=\"node3\" class=\"node\">\n<title>138169382201808tanh</title>\n<ellipse fill=\"none\" stroke=\"black\" cx=\"1263\" cy=\"-72.5\" rx=\"27\" ry=\"18\"/>\n<text text-anchor=\"middle\" x=\"1263\" y=\"-68.8\" font-family=\"Times,serif\" font-size=\"14.00\">tanh</text>\n</g>\n<!-- 138169382201808tanh&#45;&gt;138169382201808 -->\n<g id=\"edge1\" class=\"edge\">\n<title>138169382201808tanh&#45;&gt;138169382201808</title>\n<path fill=\"none\" stroke=\"black\" d=\"M1290.19,-72.5C1297.75,-72.5 1306.46,-72.5 1315.67,-72.5\"/>\n<polygon fill=\"black\" stroke=\"black\" points=\"1315.84,-76 1325.84,-72.5 1315.84,-69 1315.84,-76\"/>\n</g>\n<!-- 138169678918288 -->\n<g id=\"node4\" class=\"node\">\n<title>138169678918288</title>\n<polygon fill=\"none\" stroke=\"black\" points=\"688,-27.5 688,-63.5 859,-63.5 859,-27.5 688,-27.5\"/>\n<text text-anchor=\"middle\" x=\"699.5\" y=\"-41.8\" font-family=\"Times,serif\" font-size=\"14.00\">b</text>\n<polyline fill=\"none\" stroke=\"black\" points=\"711,-27.5 711,-63.5 \"/>\n<text text-anchor=\"middle\" x=\"751\" y=\"-41.8\" font-family=\"Times,serif\" font-size=\"14.00\">data 6.8814</text>\n<polyline fill=\"none\" stroke=\"black\" points=\"791,-27.5 791,-63.5 \"/>\n<text text-anchor=\"middle\" x=\"825\" y=\"-41.8\" font-family=\"Times,serif\" font-size=\"14.00\">grad 0.00</text>\n</g>\n<!-- 138169644980944+ -->\n<g id=\"node8\" class=\"node\">\n<title>138169644980944+</title>\n<ellipse fill=\"none\" stroke=\"black\" cx=\"966\" cy=\"-72.5\" rx=\"27\" ry=\"18\"/>\n<text text-anchor=\"middle\" x=\"966\" y=\"-68.8\" font-family=\"Times,serif\" font-size=\"14.00\">+</text>\n</g>\n<!-- 138169678918288&#45;&gt;138169644980944+ -->\n<g id=\"edge9\" class=\"edge\">\n<title>138169678918288&#45;&gt;138169644980944+</title>\n<path fill=\"none\" stroke=\"black\" d=\"M859.17,-57.5C883.76,-60.99 909.31,-64.61 929.14,-67.42\"/>\n<polygon fill=\"black\" stroke=\"black\" points=\"928.85,-70.91 939.24,-68.85 929.83,-63.98 928.85,-70.91\"/>\n</g>\n<!-- 138169678910160 -->\n<g id=\"node5\" class=\"node\">\n<title>138169678910160</title>\n<polygon fill=\"none\" stroke=\"black\" points=\"644,-82.5 644,-118.5 903,-118.5 903,-82.5 644,-82.5\"/>\n<text text-anchor=\"middle\" x=\"697\" y=\"-96.8\" font-family=\"Times,serif\" font-size=\"14.00\">x1*w1 + x2*w2</text>\n<polyline fill=\"none\" stroke=\"black\" points=\"750,-82.5 750,-118.5 \"/>\n<text text-anchor=\"middle\" x=\"792.5\" y=\"-96.8\" font-family=\"Times,serif\" font-size=\"14.00\">data &#45;6.0000</text>\n<polyline fill=\"none\" stroke=\"black\" points=\"835,-82.5 835,-118.5 \"/>\n<text text-anchor=\"middle\" x=\"869\" y=\"-96.8\" font-family=\"Times,serif\" font-size=\"14.00\">grad 0.00</text>\n</g>\n<!-- 138169678910160&#45;&gt;138169644980944+ -->\n<g id=\"edge11\" class=\"edge\">\n<title>138169678910160&#45;&gt;138169644980944+</title>\n<path fill=\"none\" stroke=\"black\" d=\"M897.03,-82.49C908.7,-80.77 919.77,-79.15 929.46,-77.72\"/>\n<polygon fill=\"black\" stroke=\"black\" points=\"930.01,-81.18 939.4,-76.26 929,-74.25 930.01,-81.18\"/>\n</g>\n<!-- 138169678910160+ -->\n<g id=\"node6\" class=\"node\">\n<title>138169678910160+</title>\n<ellipse fill=\"none\" stroke=\"black\" cx=\"581\" cy=\"-100.5\" rx=\"27\" ry=\"18\"/>\n<text text-anchor=\"middle\" x=\"581\" y=\"-96.8\" font-family=\"Times,serif\" font-size=\"14.00\">+</text>\n</g>\n<!-- 138169678910160+&#45;&gt;138169678910160 -->\n<g id=\"edge2\" class=\"edge\">\n<title>138169678910160+&#45;&gt;138169678910160</title>\n<path fill=\"none\" stroke=\"black\" d=\"M608.09,-100.5C615.58,-100.5 624.3,-100.5 633.75,-100.5\"/>\n<polygon fill=\"black\" stroke=\"black\" points=\"633.84,-104 643.84,-100.5 633.84,-97 633.84,-104\"/>\n</g>\n<!-- 138169644980944 -->\n<g id=\"node7\" class=\"node\">\n<title>138169644980944</title>\n<polygon fill=\"none\" stroke=\"black\" points=\"1029,-54.5 1029,-90.5 1200,-90.5 1200,-54.5 1029,-54.5\"/>\n<text text-anchor=\"middle\" x=\"1040.5\" y=\"-68.8\" font-family=\"Times,serif\" font-size=\"14.00\">n</text>\n<polyline fill=\"none\" stroke=\"black\" points=\"1052,-54.5 1052,-90.5 \"/>\n<text text-anchor=\"middle\" x=\"1092\" y=\"-68.8\" font-family=\"Times,serif\" font-size=\"14.00\">data 0.8814</text>\n<polyline fill=\"none\" stroke=\"black\" points=\"1132,-54.5 1132,-90.5 \"/>\n<text text-anchor=\"middle\" x=\"1166\" y=\"-68.8\" font-family=\"Times,serif\" font-size=\"14.00\">grad 0.00</text>\n</g>\n<!-- 138169644980944&#45;&gt;138169382201808tanh -->\n<g id=\"edge13\" class=\"edge\">\n<title>138169644980944&#45;&gt;138169382201808tanh</title>\n<path fill=\"none\" stroke=\"black\" d=\"M1200.3,-72.5C1209.17,-72.5 1217.81,-72.5 1225.68,-72.5\"/>\n<polygon fill=\"black\" stroke=\"black\" points=\"1225.89,-76 1235.89,-72.5 1225.89,-69 1225.89,-76\"/>\n</g>\n<!-- 138169644980944+&#45;&gt;138169644980944 -->\n<g id=\"edge3\" class=\"edge\">\n<title>138169644980944+&#45;&gt;138169644980944</title>\n<path fill=\"none\" stroke=\"black\" d=\"M993.19,-72.5C1000.75,-72.5 1009.46,-72.5 1018.67,-72.5\"/>\n<polygon fill=\"black\" stroke=\"black\" points=\"1018.84,-76 1028.84,-72.5 1018.84,-69 1018.84,-76\"/>\n</g>\n<!-- 138169644893392 -->\n<g id=\"node9\" class=\"node\">\n<title>138169644893392</title>\n<polygon fill=\"none\" stroke=\"black\" points=\"4,-55.5 4,-91.5 182,-91.5 182,-55.5 4,-55.5\"/>\n<text text-anchor=\"middle\" x=\"19\" y=\"-69.8\" font-family=\"Times,serif\" font-size=\"14.00\">x2</text>\n<polyline fill=\"none\" stroke=\"black\" points=\"34,-55.5 34,-91.5 \"/>\n<text text-anchor=\"middle\" x=\"74\" y=\"-69.8\" font-family=\"Times,serif\" font-size=\"14.00\">data 0.0000</text>\n<polyline fill=\"none\" stroke=\"black\" points=\"114,-55.5 114,-91.5 \"/>\n<text text-anchor=\"middle\" x=\"148\" y=\"-69.8\" font-family=\"Times,serif\" font-size=\"14.00\">grad 0.00</text>\n</g>\n<!-- 138169678909392* -->\n<g id=\"node15\" class=\"node\">\n<title>138169678909392*</title>\n<ellipse fill=\"none\" stroke=\"black\" cx=\"249\" cy=\"-73.5\" rx=\"27\" ry=\"18\"/>\n<text text-anchor=\"middle\" x=\"249\" y=\"-69.8\" font-family=\"Times,serif\" font-size=\"14.00\">*</text>\n</g>\n<!-- 138169644893392&#45;&gt;138169678909392* -->\n<g id=\"edge14\" class=\"edge\">\n<title>138169644893392&#45;&gt;138169678909392*</title>\n<path fill=\"none\" stroke=\"black\" d=\"M182.24,-73.5C192.58,-73.5 202.64,-73.5 211.66,-73.5\"/>\n<polygon fill=\"black\" stroke=\"black\" points=\"211.72,-77 221.72,-73.5 211.72,-70 211.72,-77\"/>\n</g>\n<!-- 138169678919888 -->\n<g id=\"node10\" class=\"node\">\n<title>138169678919888</title>\n<polygon fill=\"none\" stroke=\"black\" points=\"2.5,-0.5 2.5,-36.5 183.5,-36.5 183.5,-0.5 2.5,-0.5\"/>\n<text text-anchor=\"middle\" x=\"19\" y=\"-14.8\" font-family=\"Times,serif\" font-size=\"14.00\">w2</text>\n<polyline fill=\"none\" stroke=\"black\" points=\"35.5,-0.5 35.5,-36.5 \"/>\n<text text-anchor=\"middle\" x=\"75.5\" y=\"-14.8\" font-family=\"Times,serif\" font-size=\"14.00\">data 1.0000</text>\n<polyline fill=\"none\" stroke=\"black\" points=\"115.5,-0.5 115.5,-36.5 \"/>\n<text text-anchor=\"middle\" x=\"149.5\" y=\"-14.8\" font-family=\"Times,serif\" font-size=\"14.00\">grad 0.00</text>\n</g>\n<!-- 138169678919888&#45;&gt;138169678909392* -->\n<g id=\"edge7\" class=\"edge\">\n<title>138169678919888&#45;&gt;138169678909392*</title>\n<path fill=\"none\" stroke=\"black\" d=\"M156.68,-36.52C166.55,-39.66 176.6,-43.04 186,-46.5 196.24,-50.28 207.23,-54.87 217.06,-59.19\"/>\n<polygon fill=\"black\" stroke=\"black\" points=\"215.88,-62.5 226.44,-63.38 218.74,-56.11 215.88,-62.5\"/>\n</g>\n<!-- 138169382669584 -->\n<g id=\"node11\" class=\"node\">\n<title>138169382669584</title>\n<polygon fill=\"none\" stroke=\"black\" points=\"4,-110.5 4,-146.5 182,-146.5 182,-110.5 4,-110.5\"/>\n<text text-anchor=\"middle\" x=\"19\" y=\"-124.8\" font-family=\"Times,serif\" font-size=\"14.00\">x1</text>\n<polyline fill=\"none\" stroke=\"black\" points=\"34,-110.5 34,-146.5 \"/>\n<text text-anchor=\"middle\" x=\"74\" y=\"-124.8\" font-family=\"Times,serif\" font-size=\"14.00\">data 2.0000</text>\n<polyline fill=\"none\" stroke=\"black\" points=\"114,-110.5 114,-146.5 \"/>\n<text text-anchor=\"middle\" x=\"148\" y=\"-124.8\" font-family=\"Times,serif\" font-size=\"14.00\">grad 0.00</text>\n</g>\n<!-- 138169382669584&#45;&gt;138169678909264* -->\n<g id=\"edge12\" class=\"edge\">\n<title>138169382669584&#45;&gt;138169678909264*</title>\n<path fill=\"none\" stroke=\"black\" d=\"M182.24,-128.5C192.58,-128.5 202.64,-128.5 211.66,-128.5\"/>\n<polygon fill=\"black\" stroke=\"black\" points=\"211.72,-132 221.72,-128.5 211.72,-125 211.72,-132\"/>\n</g>\n<!-- 138169678909264 -->\n<g id=\"node12\" class=\"node\">\n<title>138169678909264</title>\n<polygon fill=\"none\" stroke=\"black\" points=\"312,-110.5 312,-146.5 518,-146.5 518,-110.5 312,-110.5\"/>\n<text text-anchor=\"middle\" x=\"338.5\" y=\"-124.8\" font-family=\"Times,serif\" font-size=\"14.00\">x1*w1</text>\n<polyline fill=\"none\" stroke=\"black\" points=\"365,-110.5 365,-146.5 \"/>\n<text text-anchor=\"middle\" x=\"407.5\" y=\"-124.8\" font-family=\"Times,serif\" font-size=\"14.00\">data &#45;6.0000</text>\n<polyline fill=\"none\" stroke=\"black\" points=\"450,-110.5 450,-146.5 \"/>\n<text text-anchor=\"middle\" x=\"484\" y=\"-124.8\" font-family=\"Times,serif\" font-size=\"14.00\">grad 0.00</text>\n</g>\n<!-- 138169678909264&#45;&gt;138169678910160+ -->\n<g id=\"edge8\" class=\"edge\">\n<title>138169678909264&#45;&gt;138169678910160+</title>\n<path fill=\"none\" stroke=\"black\" d=\"M518.47,-111.01C527.74,-109.42 536.64,-107.9 544.65,-106.54\"/>\n<polygon fill=\"black\" stroke=\"black\" points=\"545.36,-109.97 554.63,-104.83 544.18,-103.07 545.36,-109.97\"/>\n</g>\n<!-- 138169678909264*&#45;&gt;138169678909264 -->\n<g id=\"edge4\" class=\"edge\">\n<title>138169678909264*&#45;&gt;138169678909264</title>\n<path fill=\"none\" stroke=\"black\" d=\"M276.35,-128.5C283.8,-128.5 292.4,-128.5 301.61,-128.5\"/>\n<polygon fill=\"black\" stroke=\"black\" points=\"301.8,-132 311.8,-128.5 301.8,-125 301.8,-132\"/>\n</g>\n<!-- 138169678909392 -->\n<g id=\"node14\" class=\"node\">\n<title>138169678909392</title>\n<polygon fill=\"none\" stroke=\"black\" points=\"314.5,-55.5 314.5,-91.5 515.5,-91.5 515.5,-55.5 314.5,-55.5\"/>\n<text text-anchor=\"middle\" x=\"341\" y=\"-69.8\" font-family=\"Times,serif\" font-size=\"14.00\">x2*w2</text>\n<polyline fill=\"none\" stroke=\"black\" points=\"367.5,-55.5 367.5,-91.5 \"/>\n<text text-anchor=\"middle\" x=\"407.5\" y=\"-69.8\" font-family=\"Times,serif\" font-size=\"14.00\">data 0.0000</text>\n<polyline fill=\"none\" stroke=\"black\" points=\"447.5,-55.5 447.5,-91.5 \"/>\n<text text-anchor=\"middle\" x=\"481.5\" y=\"-69.8\" font-family=\"Times,serif\" font-size=\"14.00\">grad 0.00</text>\n</g>\n<!-- 138169678909392&#45;&gt;138169678910160+ -->\n<g id=\"edge10\" class=\"edge\">\n<title>138169678909392&#45;&gt;138169678910160+</title>\n<path fill=\"none\" stroke=\"black\" d=\"M515.65,-89.91C525.86,-91.59 535.68,-93.2 544.45,-94.65\"/>\n<polygon fill=\"black\" stroke=\"black\" points=\"544.13,-98.14 554.57,-96.31 545.27,-91.23 544.13,-98.14\"/>\n</g>\n<!-- 138169678909392*&#45;&gt;138169678909392 -->\n<g id=\"edge5\" class=\"edge\">\n<title>138169678909392*&#45;&gt;138169678909392</title>\n<path fill=\"none\" stroke=\"black\" d=\"M276.35,-73.5C284.43,-73.5 293.88,-73.5 303.97,-73.5\"/>\n<polygon fill=\"black\" stroke=\"black\" points=\"304.25,-77 314.25,-73.5 304.25,-70 304.25,-77\"/>\n</g>\n</g>\n</svg>\n",
            "text/plain": [
              "<graphviz.graphs.Digraph at 0x7daa209baed0>"
            ]
          },
          "metadata": {},
          "execution_count": 85
        }
      ],
      "source": [
        "draw_dot(o)"
      ]
    },
    {
      "cell_type": "code",
      "source": [
        "o.backward()"
      ],
      "metadata": {
        "id": "qM9sjxUO49tC"
      },
      "id": "qM9sjxUO49tC",
      "execution_count": null,
      "outputs": []
    },
    {
      "cell_type": "code",
      "source": [
        "a = Value(3.0, label = 'a')\n",
        "b = a + a ; b.label = 'b'\n",
        "b.backward()\n",
        "draw_dot(b)"
      ],
      "metadata": {
        "colab": {
          "base_uri": "https://localhost:8080/",
          "height": 81
        },
        "id": "lOvGe0Hg5F0k",
        "outputId": "2afc858a-99e4-4e08-c4b9-d752d7dd017d"
      },
      "id": "lOvGe0Hg5F0k",
      "execution_count": null,
      "outputs": [
        {
          "output_type": "execute_result",
          "data": {
            "image/svg+xml": "<?xml version=\"1.0\" encoding=\"UTF-8\" standalone=\"no\"?>\n<!DOCTYPE svg PUBLIC \"-//W3C//DTD SVG 1.1//EN\"\n \"http://www.w3.org/Graphics/SVG/1.1/DTD/svg11.dtd\">\n<!-- Generated by graphviz version 2.43.0 (0)\n -->\n<!-- Title: %3 Pages: 1 -->\n<svg width=\"476pt\" height=\"45pt\"\n viewBox=\"0.00 0.00 476.00 45.00\" xmlns=\"http://www.w3.org/2000/svg\" xmlns:xlink=\"http://www.w3.org/1999/xlink\">\n<g id=\"graph0\" class=\"graph\" transform=\"scale(1 1) rotate(0) translate(4 41)\">\n<title>%3</title>\n<polygon fill=\"white\" stroke=\"transparent\" points=\"-4,4 -4,-41 472,-41 472,4 -4,4\"/>\n<!-- 138169678865424 -->\n<g id=\"node1\" class=\"node\">\n<title>138169678865424</title>\n<polygon fill=\"none\" stroke=\"black\" points=\"0,-0.5 0,-36.5 171,-36.5 171,-0.5 0,-0.5\"/>\n<text text-anchor=\"middle\" x=\"11.5\" y=\"-14.8\" font-family=\"Times,serif\" font-size=\"14.00\">a</text>\n<polyline fill=\"none\" stroke=\"black\" points=\"23,-0.5 23,-36.5 \"/>\n<text text-anchor=\"middle\" x=\"63\" y=\"-14.8\" font-family=\"Times,serif\" font-size=\"14.00\">data 3.0000</text>\n<polyline fill=\"none\" stroke=\"black\" points=\"103,-0.5 103,-36.5 \"/>\n<text text-anchor=\"middle\" x=\"137\" y=\"-14.8\" font-family=\"Times,serif\" font-size=\"14.00\">grad 2.00</text>\n</g>\n<!-- 138169679133328+ -->\n<g id=\"node3\" class=\"node\">\n<title>138169679133328+</title>\n<ellipse fill=\"none\" stroke=\"black\" cx=\"234\" cy=\"-18.5\" rx=\"27\" ry=\"18\"/>\n<text text-anchor=\"middle\" x=\"234\" y=\"-14.8\" font-family=\"Times,serif\" font-size=\"14.00\">+</text>\n</g>\n<!-- 138169678865424&#45;&gt;138169679133328+ -->\n<g id=\"edge2\" class=\"edge\">\n<title>138169678865424&#45;&gt;138169679133328+</title>\n<path fill=\"none\" stroke=\"black\" d=\"M171.3,-18.5C180.17,-18.5 188.81,-18.5 196.68,-18.5\"/>\n<polygon fill=\"black\" stroke=\"black\" points=\"196.89,-22 206.89,-18.5 196.89,-15 196.89,-22\"/>\n</g>\n<!-- 138169679133328 -->\n<g id=\"node2\" class=\"node\">\n<title>138169679133328</title>\n<polygon fill=\"none\" stroke=\"black\" points=\"297,-0.5 297,-36.5 468,-36.5 468,-0.5 297,-0.5\"/>\n<text text-anchor=\"middle\" x=\"308.5\" y=\"-14.8\" font-family=\"Times,serif\" font-size=\"14.00\">b</text>\n<polyline fill=\"none\" stroke=\"black\" points=\"320,-0.5 320,-36.5 \"/>\n<text text-anchor=\"middle\" x=\"360\" y=\"-14.8\" font-family=\"Times,serif\" font-size=\"14.00\">data 6.0000</text>\n<polyline fill=\"none\" stroke=\"black\" points=\"400,-0.5 400,-36.5 \"/>\n<text text-anchor=\"middle\" x=\"434\" y=\"-14.8\" font-family=\"Times,serif\" font-size=\"14.00\">grad 1.00</text>\n</g>\n<!-- 138169679133328+&#45;&gt;138169679133328 -->\n<g id=\"edge1\" class=\"edge\">\n<title>138169679133328+&#45;&gt;138169679133328</title>\n<path fill=\"none\" stroke=\"black\" d=\"M261.19,-18.5C268.75,-18.5 277.46,-18.5 286.67,-18.5\"/>\n<polygon fill=\"black\" stroke=\"black\" points=\"286.84,-22 296.84,-18.5 286.84,-15 286.84,-22\"/>\n</g>\n</g>\n</svg>\n",
            "text/plain": [
              "<graphviz.graphs.Digraph at 0x7daa22a49a10>"
            ]
          },
          "metadata": {},
          "execution_count": 87
        }
      ]
    },
    {
      "cell_type": "markdown",
      "source": [
        "## Second half"
      ],
      "metadata": {
        "id": "IGXHvNV_GbNT"
      },
      "id": "IGXHvNV_GbNT"
    },
    {
      "cell_type": "code",
      "source": [
        "import math\n",
        "import random\n",
        "import numpy as np\n",
        "import matplotlib.pyplot as plt\n",
        "%matplotlib inline"
      ],
      "metadata": {
        "id": "hFDqLvJA5FvF"
      },
      "id": "hFDqLvJA5FvF",
      "execution_count": null,
      "outputs": []
    },
    {
      "cell_type": "code",
      "source": [
        "def f(x):\n",
        "  return 3*x**2 - 4*x + 5"
      ],
      "metadata": {
        "id": "lj3ePscU5Frs"
      },
      "id": "lj3ePscU5Frs",
      "execution_count": null,
      "outputs": []
    },
    {
      "cell_type": "code",
      "source": [
        "f(3.0)"
      ],
      "metadata": {
        "colab": {
          "base_uri": "https://localhost:8080/"
        },
        "id": "mX3EeE2LGjpJ",
        "outputId": "4e6f9863-38e3-4fd8-ad0e-0118281a0112"
      },
      "id": "mX3EeE2LGjpJ",
      "execution_count": null,
      "outputs": [
        {
          "output_type": "execute_result",
          "data": {
            "text/plain": [
              "20.0"
            ]
          },
          "metadata": {},
          "execution_count": 91
        }
      ]
    },
    {
      "cell_type": "code",
      "source": [
        "xs = np.arange(-5, 5, 0.25)\n",
        "ys = f(xs)\n",
        "plt.plot(xs, ys)"
      ],
      "metadata": {
        "colab": {
          "base_uri": "https://localhost:8080/",
          "height": 448
        },
        "id": "yxgHWlF1GmZ_",
        "outputId": "3552e089-812e-47fd-e973-ec6a1fe5b57c"
      },
      "id": "yxgHWlF1GmZ_",
      "execution_count": null,
      "outputs": [
        {
          "output_type": "execute_result",
          "data": {
            "text/plain": [
              "[<matplotlib.lines.Line2D at 0x7daa10fba8d0>]"
            ]
          },
          "metadata": {},
          "execution_count": 92
        },
        {
          "output_type": "display_data",
          "data": {
            "text/plain": [
              "<Figure size 640x480 with 1 Axes>"
            ],
            "image/png": "[encoded data removed]"
          },
          "metadata": {}
        }
      ]
    },
    {
      "cell_type": "code",
      "source": [
        "h = 0.000001\n",
        "x = 2/3\n",
        "(f(x + h) - f(x))/h"
      ],
      "metadata": {
        "colab": {
          "base_uri": "https://localhost:8080/"
        },
        "id": "xDj5wNkIInTL",
        "outputId": "60f6fbf3-2b8d-4d00-b2ee-5b449296a5f1"
      },
      "id": "xDj5wNkIInTL",
      "execution_count": null,
      "outputs": [
        {
          "output_type": "execute_result",
          "data": {
            "text/plain": [
              "2.999378523327323e-06"
            ]
          },
          "metadata": {},
          "execution_count": 93
        }
      ]
    },
    {
      "cell_type": "code",
      "source": [
        "# les get more complex\n",
        "a = 2.0\n",
        "b = -3.0\n",
        "c = 10.0\n",
        "d = a*b + c\n",
        "print(d)"
      ],
      "metadata": {
        "colab": {
          "base_uri": "https://localhost:8080/"
        },
        "id": "UlXUgg-EIrdj",
        "outputId": "e6a880a5-1d20-4cd1-a786-45b4ba81fbca"
      },
      "id": "UlXUgg-EIrdj",
      "execution_count": null,
      "outputs": [
        {
          "output_type": "stream",
          "name": "stdout",
          "text": [
            "4.0\n"
          ]
        }
      ]
    },
    {
      "cell_type": "code",
      "source": [
        "h = 0.0001\n",
        "\n",
        "# inputs\n",
        "a = 2.0\n",
        "b = -3.0\n",
        "c = 10.0\n",
        "\n",
        "d1 = a*b + c\n",
        "c += h\n",
        "d2 = a*b + c\n",
        "\n",
        "print('d1', d1)\n",
        "print('d2', d2)\n",
        "print('slope', (d2 - d1)/h)"
      ],
      "metadata": {
        "colab": {
          "base_uri": "https://localhost:8080/"
        },
        "id": "WgtKKKBoIzZY",
        "outputId": "f0a706ce-f5b9-4bf8-e04b-2e52686eb427"
      },
      "id": "WgtKKKBoIzZY",
      "execution_count": null,
      "outputs": [
        {
          "output_type": "stream",
          "name": "stdout",
          "text": [
            "d1 4.0\n",
            "d2 4.0001\n",
            "slope 0.9999999999976694\n"
          ]
        }
      ]
    },
    {
      "cell_type": "code",
      "source": [
        "class Value:\n",
        "\n",
        "  def __init__(self, data, _children=(), _op='', label=''):\n",
        "    self.data = data\n",
        "    self.grad = 0.0\n",
        "    self._backward = lambda: None\n",
        "    self._prev = set(_children)\n",
        "    self._op = _op\n",
        "    self.label = label\n",
        "\n",
        "  def __repr__(self):\n",
        "    return f\"Value(data={self.data})\"\n",
        "\n",
        "  def __add__(self, other):\n",
        "    other = other if isinstance(other, Value) else Value(other)\n",
        "    out = Value(self.data + other.data, (self, other), '+')\n",
        "\n",
        "    def _backward():\n",
        "      self.grad += 1.0 * out.grad\n",
        "      other.grad += 1.0 * out.grad\n",
        "    out._backward = _backward\n",
        "\n",
        "    return out\n",
        "\n",
        "  def __mul__(self, other):\n",
        "    other = other if isinstance(other, Value) else Value(other)\n",
        "    out = Value(self.data * other.data, (self, other), '*')\n",
        "\n",
        "    def _backward():\n",
        "      self.grad += other.data * out.grad\n",
        "      other.grad += self.data * out.grad\n",
        "    out._backward = _backward\n",
        "\n",
        "    return out\n",
        "\n",
        "  def __pow__(self, other):\n",
        "    assert isinstance(other, (int, float)), \"only supporting int/float powers for now\"\n",
        "    out = Value(self.data**other, (self,), f'**{other}')\n",
        "\n",
        "    def _backward():\n",
        "        self.grad += other * (self.data ** (other - 1)) * out.grad\n",
        "    out._backward = _backward\n",
        "\n",
        "    return out\n",
        "\n",
        "  def __rmul__(self, other): # other * self\n",
        "    return self * other\n",
        "\n",
        "  def __truediv__(self, other): # self / other\n",
        "    return self * other**-1\n",
        "\n",
        "  def __neg__(self): # -self\n",
        "    return self * -1\n",
        "\n",
        "  def __sub__(self, other): # self - other\n",
        "    return self + (-other)\n",
        "\n",
        "  def __radd__(self, other): # other + self\n",
        "    return self + other\n",
        "\n",
        "  def tanh(self):\n",
        "    x = self.data\n",
        "    t = (math.exp(2*x) - 1)/(math.exp(2*x) + 1)\n",
        "    out = Value(t, (self, ), 'tanh')\n",
        "\n",
        "    def _backward():\n",
        "      self.grad += (1 - t**2) * out.grad\n",
        "    out._backward = _backward\n",
        "\n",
        "    return out\n",
        "\n",
        "  def exp(self):\n",
        "    x = self.data\n",
        "    out = Value(math.exp(x), (self, ), 'exp')\n",
        "\n",
        "    def _backward():\n",
        "      self.grad += out.data * out.grad # NOTE: in the video I incorrectly used = instead of +=. Fixed here.\n",
        "    out._backward = _backward\n",
        "\n",
        "    return out\n",
        "\n",
        "\n",
        "  def backward(self):\n",
        "\n",
        "    topo = []\n",
        "    visited = set()\n",
        "    def build_topo(v):\n",
        "      if v not in visited:\n",
        "        visited.add(v)\n",
        "        for child in v._prev:\n",
        "          build_topo(child)\n",
        "        topo.append(v)\n",
        "    build_topo(self)\n",
        "\n",
        "    self.grad = 1.0\n",
        "    for node in reversed(topo):\n",
        "      node._backward()\n",
        "\n"
      ],
      "metadata": {
        "id": "MfHdVdB5I1Yd"
      },
      "id": "MfHdVdB5I1Yd",
      "execution_count": null,
      "outputs": []
    },
    {
      "cell_type": "code",
      "source": [
        "a = Value(3.0, label = 'a')\n",
        "\n",
        "a+1"
      ],
      "metadata": {
        "colab": {
          "base_uri": "https://localhost:8080/"
        },
        "id": "6XptxK-kJlER",
        "outputId": "a9edb599-e17a-43a8-a106-80e3dc903bab"
      },
      "id": "6XptxK-kJlER",
      "execution_count": null,
      "outputs": [
        {
          "output_type": "execute_result",
          "data": {
            "text/plain": [
              "Value(data=4.0)"
            ]
          },
          "metadata": {},
          "execution_count": 101
        }
      ]
    },
    {
      "cell_type": "code",
      "source": [
        "\n",
        "from graphviz import Digraph\n",
        "\n",
        "def trace(root):\n",
        "  # builds a set of all nodes and edges in a graph\n",
        "  nodes, edges = set(), set()\n",
        "  def build(v):\n",
        "    if v not in nodes:\n",
        "      nodes.add(v)\n",
        "      for child in v._prev:\n",
        "        edges.add((child, v))\n",
        "        build(child)\n",
        "  build(root)\n",
        "  return nodes, edges\n",
        "\n",
        "def draw_dot(root):\n",
        "  dot = Digraph(format='svg', graph_attr={'rankdir': 'LR'}) # LR = left to right\n",
        "\n",
        "  nodes, edges = trace(root)\n",
        "  for n in nodes:\n",
        "    uid = str(id(n))\n",
        "    # for any value in the graph, create a rectangular ('record') node for it\n",
        "    dot.node(name = uid, label = \"{ %s | data %.4f | grad %.4f }\" % (n.label, n.data, n.grad), shape='record')\n",
        "    if n._op:\n",
        "      # if this value is a result of some operation, create an op node for it\n",
        "      dot.node(name = uid + n._op, label = n._op)\n",
        "      # and connect this node to it\n",
        "      dot.edge(uid + n._op, uid)\n",
        "\n",
        "  for n1, n2 in edges:\n",
        "    # connect n1 to the op node of n2\n",
        "    dot.edge(str(id(n1)), str(id(n2)) + n2._op)\n",
        "\n",
        "  return dot\n",
        "\n"
      ],
      "metadata": {
        "id": "xach4h8lJKED"
      },
      "id": "xach4h8lJKED",
      "execution_count": null,
      "outputs": []
    },
    {
      "cell_type": "code",
      "source": [
        "\n",
        "# inputs x1,x2\n",
        "x1 = Value(2.0, label='x1')\n",
        "x2 = Value(0.0, label='x2')\n",
        "# weights w1,w2\n",
        "w1 = Value(-3.0, label='w1')\n",
        "w2 = Value(1.0, label='w2')\n",
        "# bias of the neuron\n",
        "b = Value(6.8813735870195432, label='b')\n",
        "# x1*w1 + x2*w2 + b\n",
        "x1w1 = x1*w1; x1w1.label = 'x1*w1'\n",
        "x2w2 = x2*w2; x2w2.label = 'x2*w2'\n",
        "x1w1x2w2 = x1w1 + x2w2; x1w1x2w2.label = 'x1*w1 + x2*w2'\n",
        "n = x1w1x2w2 + b; n.label = 'n'\n",
        "o = n.tanh(); o.label = 'o'\n"
      ],
      "metadata": {
        "id": "vUsTL688JNTN"
      },
      "id": "vUsTL688JNTN",
      "execution_count": null,
      "outputs": []
    },
    {
      "cell_type": "code",
      "source": [
        "o.backward()"
      ],
      "metadata": {
        "id": "AEqb6hXfJSwK"
      },
      "id": "AEqb6hXfJSwK",
      "execution_count": null,
      "outputs": []
    },
    {
      "cell_type": "code",
      "source": [
        "draw_dot(o)"
      ],
      "metadata": {
        "colab": {
          "base_uri": "https://localhost:8080/",
          "height": 321
        },
        "id": "PNo6gH4DJWP3",
        "outputId": "c06c9ad3-13f3-46a4-bbdc-65270a3f8207"
      },
      "id": "PNo6gH4DJWP3",
      "execution_count": null,
      "outputs": [
        {
          "output_type": "execute_result",
          "data": {
            "image/svg+xml": "<?xml version=\"1.0\" encoding=\"UTF-8\" standalone=\"no\"?>\n<!DOCTYPE svg PUBLIC \"-//W3C//DTD SVG 1.1//EN\"\n \"http://www.w3.org/Graphics/SVG/1.1/DTD/svg11.dtd\">\n<!-- Generated by graphviz version 2.43.0 (0)\n -->\n<!-- Title: %3 Pages: 1 -->\n<svg width=\"1575pt\" height=\"210pt\"\n viewBox=\"0.00 0.00 1575.00 210.00\" xmlns=\"http://www.w3.org/2000/svg\" xmlns:xlink=\"http://www.w3.org/1999/xlink\">\n<g id=\"graph0\" class=\"graph\" transform=\"scale(1 1) rotate(0) translate(4 206)\">\n<title>%3</title>\n<polygon fill=\"white\" stroke=\"transparent\" points=\"-4,4 -4,-206 1571,-206 1571,4 -4,4\"/>\n<!-- 138169382449232 -->\n<g id=\"node1\" class=\"node\">\n<title>138169382449232</title>\n<polygon fill=\"none\" stroke=\"black\" points=\"2,-165.5 2,-201.5 198,-201.5 198,-165.5 2,-165.5\"/>\n<text text-anchor=\"middle\" x=\"17\" y=\"-179.8\" font-family=\"Times,serif\" font-size=\"14.00\">x1</text>\n<polyline fill=\"none\" stroke=\"black\" points=\"32,-165.5 32,-201.5 \"/>\n<text text-anchor=\"middle\" x=\"72\" y=\"-179.8\" font-family=\"Times,serif\" font-size=\"14.00\">data 2.0000</text>\n<polyline fill=\"none\" stroke=\"black\" points=\"112,-165.5 112,-201.5 \"/>\n<text text-anchor=\"middle\" x=\"155\" y=\"-179.8\" font-family=\"Times,serif\" font-size=\"14.00\">grad &#45;1.5000</text>\n</g>\n<!-- 138169382443216* -->\n<g id=\"node9\" class=\"node\">\n<title>138169382443216*</title>\n<ellipse fill=\"none\" stroke=\"black\" cx=\"263\" cy=\"-128.5\" rx=\"27\" ry=\"18\"/>\n<text text-anchor=\"middle\" x=\"263\" y=\"-124.8\" font-family=\"Times,serif\" font-size=\"14.00\">*</text>\n</g>\n<!-- 138169382449232&#45;&gt;138169382443216* -->\n<g id=\"edge13\" class=\"edge\">\n<title>138169382449232&#45;&gt;138169382443216*</title>\n<path fill=\"none\" stroke=\"black\" d=\"M172.53,-165.44C181.84,-162.67 191.2,-159.67 200,-156.5 210.53,-152.71 221.75,-147.9 231.72,-143.33\"/>\n<polygon fill=\"black\" stroke=\"black\" points=\"233.25,-146.48 240.82,-139.07 230.28,-140.14 233.25,-146.48\"/>\n</g>\n<!-- 138169382443088 -->\n<g id=\"node2\" class=\"node\">\n<title>138169382443088</title>\n<polygon fill=\"none\" stroke=\"black\" points=\"328.5,-55.5 328.5,-91.5 543.5,-91.5 543.5,-55.5 328.5,-55.5\"/>\n<text text-anchor=\"middle\" x=\"355\" y=\"-69.8\" font-family=\"Times,serif\" font-size=\"14.00\">x2*w2</text>\n<polyline fill=\"none\" stroke=\"black\" points=\"381.5,-55.5 381.5,-91.5 \"/>\n<text text-anchor=\"middle\" x=\"421.5\" y=\"-69.8\" font-family=\"Times,serif\" font-size=\"14.00\">data 0.0000</text>\n<polyline fill=\"none\" stroke=\"black\" points=\"461.5,-55.5 461.5,-91.5 \"/>\n<text text-anchor=\"middle\" x=\"502.5\" y=\"-69.8\" font-family=\"Times,serif\" font-size=\"14.00\">grad 0.5000</text>\n</g>\n<!-- 138169382771856+ -->\n<g id=\"node6\" class=\"node\">\n<title>138169382771856+</title>\n<ellipse fill=\"none\" stroke=\"black\" cx=\"609\" cy=\"-100.5\" rx=\"27\" ry=\"18\"/>\n<text text-anchor=\"middle\" x=\"609\" y=\"-96.8\" font-family=\"Times,serif\" font-size=\"14.00\">+</text>\n</g>\n<!-- 138169382443088&#45;&gt;138169382771856+ -->\n<g id=\"edge10\" class=\"edge\">\n<title>138169382443088&#45;&gt;138169382771856+</title>\n<path fill=\"none\" stroke=\"black\" d=\"M543.84,-90.37C554.01,-91.98 563.76,-93.51 572.44,-94.89\"/>\n<polygon fill=\"black\" stroke=\"black\" points=\"572.05,-98.37 582.47,-96.47 573.14,-91.45 572.05,-98.37\"/>\n</g>\n<!-- 138169382443088* -->\n<g id=\"node3\" class=\"node\">\n<title>138169382443088*</title>\n<ellipse fill=\"none\" stroke=\"black\" cx=\"263\" cy=\"-73.5\" rx=\"27\" ry=\"18\"/>\n<text text-anchor=\"middle\" x=\"263\" y=\"-69.8\" font-family=\"Times,serif\" font-size=\"14.00\">*</text>\n</g>\n<!-- 138169382443088*&#45;&gt;138169382443088 -->\n<g id=\"edge1\" class=\"edge\">\n<title>138169382443088*&#45;&gt;138169382443088</title>\n<path fill=\"none\" stroke=\"black\" d=\"M290.34,-73.5C298.51,-73.5 308.08,-73.5 318.36,-73.5\"/>\n<polygon fill=\"black\" stroke=\"black\" points=\"318.39,-77 328.39,-73.5 318.39,-70 318.39,-77\"/>\n</g>\n<!-- 138169382445136 -->\n<g id=\"node4\" class=\"node\">\n<title>138169382445136</title>\n<polygon fill=\"none\" stroke=\"black\" points=\"716,-27.5 716,-63.5 901,-63.5 901,-27.5 716,-27.5\"/>\n<text text-anchor=\"middle\" x=\"727.5\" y=\"-41.8\" font-family=\"Times,serif\" font-size=\"14.00\">b</text>\n<polyline fill=\"none\" stroke=\"black\" points=\"739,-27.5 739,-63.5 \"/>\n<text text-anchor=\"middle\" x=\"779\" y=\"-41.8\" font-family=\"Times,serif\" font-size=\"14.00\">data 6.8814</text>\n<polyline fill=\"none\" stroke=\"black\" points=\"819,-27.5 819,-63.5 \"/>\n<text text-anchor=\"middle\" x=\"860\" y=\"-41.8\" font-family=\"Times,serif\" font-size=\"14.00\">grad 0.5000</text>\n</g>\n<!-- 138169382442896+ -->\n<g id=\"node14\" class=\"node\">\n<title>138169382442896+</title>\n<ellipse fill=\"none\" stroke=\"black\" cx=\"1008\" cy=\"-72.5\" rx=\"27\" ry=\"18\"/>\n<text text-anchor=\"middle\" x=\"1008\" y=\"-68.8\" font-family=\"Times,serif\" font-size=\"14.00\">+</text>\n</g>\n<!-- 138169382445136&#45;&gt;138169382442896+ -->\n<g id=\"edge12\" class=\"edge\">\n<title>138169382445136&#45;&gt;138169382442896+</title>\n<path fill=\"none\" stroke=\"black\" d=\"M901.02,-58.01C926,-61.43 951.59,-64.93 971.37,-67.63\"/>\n<polygon fill=\"black\" stroke=\"black\" points=\"971.05,-71.12 981.43,-69.01 972,-64.18 971.05,-71.12\"/>\n</g>\n<!-- 138169382771856 -->\n<g id=\"node5\" class=\"node\">\n<title>138169382771856</title>\n<polygon fill=\"none\" stroke=\"black\" points=\"672,-82.5 672,-118.5 945,-118.5 945,-82.5 672,-82.5\"/>\n<text text-anchor=\"middle\" x=\"725\" y=\"-96.8\" font-family=\"Times,serif\" font-size=\"14.00\">x1*w1 + x2*w2</text>\n<polyline fill=\"none\" stroke=\"black\" points=\"778,-82.5 778,-118.5 \"/>\n<text text-anchor=\"middle\" x=\"820.5\" y=\"-96.8\" font-family=\"Times,serif\" font-size=\"14.00\">data &#45;6.0000</text>\n<polyline fill=\"none\" stroke=\"black\" points=\"863,-82.5 863,-118.5 \"/>\n<text text-anchor=\"middle\" x=\"904\" y=\"-96.8\" font-family=\"Times,serif\" font-size=\"14.00\">grad 0.5000</text>\n</g>\n<!-- 138169382771856&#45;&gt;138169382442896+ -->\n<g id=\"edge7\" class=\"edge\">\n<title>138169382771856&#45;&gt;138169382442896+</title>\n<path fill=\"none\" stroke=\"black\" d=\"M936.53,-82.49C949.09,-80.71 960.99,-79.02 971.3,-77.56\"/>\n<polygon fill=\"black\" stroke=\"black\" points=\"972.03,-80.99 981.44,-76.12 971.05,-74.06 972.03,-80.99\"/>\n</g>\n<!-- 138169382771856+&#45;&gt;138169382771856 -->\n<g id=\"edge2\" class=\"edge\">\n<title>138169382771856+&#45;&gt;138169382771856</title>\n<path fill=\"none\" stroke=\"black\" d=\"M636.23,-100.5C643.7,-100.5 652.41,-100.5 661.87,-100.5\"/>\n<polygon fill=\"black\" stroke=\"black\" points=\"661.98,-104 671.98,-100.5 661.98,-97 661.98,-104\"/>\n</g>\n<!-- 138169382443152 -->\n<g id=\"node7\" class=\"node\">\n<title>138169382443152</title>\n<polygon fill=\"none\" stroke=\"black\" points=\"2.5,-55.5 2.5,-91.5 197.5,-91.5 197.5,-55.5 2.5,-55.5\"/>\n<text text-anchor=\"middle\" x=\"19\" y=\"-69.8\" font-family=\"Times,serif\" font-size=\"14.00\">w2</text>\n<polyline fill=\"none\" stroke=\"black\" points=\"35.5,-55.5 35.5,-91.5 \"/>\n<text text-anchor=\"middle\" x=\"75.5\" y=\"-69.8\" font-family=\"Times,serif\" font-size=\"14.00\">data 1.0000</text>\n<polyline fill=\"none\" stroke=\"black\" points=\"115.5,-55.5 115.5,-91.5 \"/>\n<text text-anchor=\"middle\" x=\"156.5\" y=\"-69.8\" font-family=\"Times,serif\" font-size=\"14.00\">grad 0.0000</text>\n</g>\n<!-- 138169382443152&#45;&gt;138169382443088* -->\n<g id=\"edge6\" class=\"edge\">\n<title>138169382443152&#45;&gt;138169382443088*</title>\n<path fill=\"none\" stroke=\"black\" d=\"M197.91,-73.5C207.65,-73.5 217.05,-73.5 225.52,-73.5\"/>\n<polygon fill=\"black\" stroke=\"black\" points=\"225.7,-77 235.7,-73.5 225.7,-70 225.7,-77\"/>\n</g>\n<!-- 138169382443216 -->\n<g id=\"node8\" class=\"node\">\n<title>138169382443216</title>\n<polygon fill=\"none\" stroke=\"black\" points=\"326,-110.5 326,-146.5 546,-146.5 546,-110.5 326,-110.5\"/>\n<text text-anchor=\"middle\" x=\"352.5\" y=\"-124.8\" font-family=\"Times,serif\" font-size=\"14.00\">x1*w1</text>\n<polyline fill=\"none\" stroke=\"black\" points=\"379,-110.5 379,-146.5 \"/>\n<text text-anchor=\"middle\" x=\"421.5\" y=\"-124.8\" font-family=\"Times,serif\" font-size=\"14.00\">data &#45;6.0000</text>\n<polyline fill=\"none\" stroke=\"black\" points=\"464,-110.5 464,-146.5 \"/>\n<text text-anchor=\"middle\" x=\"505\" y=\"-124.8\" font-family=\"Times,serif\" font-size=\"14.00\">grad 0.5000</text>\n</g>\n<!-- 138169382443216&#45;&gt;138169382771856+ -->\n<g id=\"edge8\" class=\"edge\">\n<title>138169382443216&#45;&gt;138169382771856+</title>\n<path fill=\"none\" stroke=\"black\" d=\"M546.27,-110.61C555.64,-109.07 564.6,-107.61 572.65,-106.29\"/>\n<polygon fill=\"black\" stroke=\"black\" points=\"573.35,-109.72 582.65,-104.65 572.22,-102.81 573.35,-109.72\"/>\n</g>\n<!-- 138169382443216*&#45;&gt;138169382443216 -->\n<g id=\"edge3\" class=\"edge\">\n<title>138169382443216*&#45;&gt;138169382443216</title>\n<path fill=\"none\" stroke=\"black\" d=\"M290.34,-128.5C297.77,-128.5 306.37,-128.5 315.6,-128.5\"/>\n<polygon fill=\"black\" stroke=\"black\" points=\"315.84,-132 325.84,-128.5 315.84,-125 315.84,-132\"/>\n</g>\n<!-- 138169382824208 -->\n<g id=\"node10\" class=\"node\">\n<title>138169382824208</title>\n<polygon fill=\"none\" stroke=\"black\" points=\"1382,-54.5 1382,-90.5 1567,-90.5 1567,-54.5 1382,-54.5\"/>\n<text text-anchor=\"middle\" x=\"1393.5\" y=\"-68.8\" font-family=\"Times,serif\" font-size=\"14.00\">o</text>\n<polyline fill=\"none\" stroke=\"black\" points=\"1405,-54.5 1405,-90.5 \"/>\n<text text-anchor=\"middle\" x=\"1445\" y=\"-68.8\" font-family=\"Times,serif\" font-size=\"14.00\">data 0.7071</text>\n<polyline fill=\"none\" stroke=\"black\" points=\"1485,-54.5 1485,-90.5 \"/>\n<text text-anchor=\"middle\" x=\"1526\" y=\"-68.8\" font-family=\"Times,serif\" font-size=\"14.00\">grad 1.0000</text>\n</g>\n<!-- 138169382824208tanh -->\n<g id=\"node11\" class=\"node\">\n<title>138169382824208tanh</title>\n<ellipse fill=\"none\" stroke=\"black\" cx=\"1319\" cy=\"-72.5\" rx=\"27\" ry=\"18\"/>\n<text text-anchor=\"middle\" x=\"1319\" y=\"-68.8\" font-family=\"Times,serif\" font-size=\"14.00\">tanh</text>\n</g>\n<!-- 138169382824208tanh&#45;&gt;138169382824208 -->\n<g id=\"edge4\" class=\"edge\">\n<title>138169382824208tanh&#45;&gt;138169382824208</title>\n<path fill=\"none\" stroke=\"black\" d=\"M1346.04,-72.5C1353.58,-72.5 1362.3,-72.5 1371.57,-72.5\"/>\n<polygon fill=\"black\" stroke=\"black\" points=\"1371.81,-76 1381.81,-72.5 1371.81,-69 1371.81,-76\"/>\n</g>\n<!-- 138169382443344 -->\n<g id=\"node12\" class=\"node\">\n<title>138169382443344</title>\n<polygon fill=\"none\" stroke=\"black\" points=\"0,-110.5 0,-146.5 200,-146.5 200,-110.5 0,-110.5\"/>\n<text text-anchor=\"middle\" x=\"16.5\" y=\"-124.8\" font-family=\"Times,serif\" font-size=\"14.00\">w1</text>\n<polyline fill=\"none\" stroke=\"black\" points=\"33,-110.5 33,-146.5 \"/>\n<text text-anchor=\"middle\" x=\"75.5\" y=\"-124.8\" font-family=\"Times,serif\" font-size=\"14.00\">data &#45;3.0000</text>\n<polyline fill=\"none\" stroke=\"black\" points=\"118,-110.5 118,-146.5 \"/>\n<text text-anchor=\"middle\" x=\"159\" y=\"-124.8\" font-family=\"Times,serif\" font-size=\"14.00\">grad 1.0000</text>\n</g>\n<!-- 138169382443344&#45;&gt;138169382443216* -->\n<g id=\"edge9\" class=\"edge\">\n<title>138169382443344&#45;&gt;138169382443216*</title>\n<path fill=\"none\" stroke=\"black\" d=\"M200.21,-128.5C209.2,-128.5 217.86,-128.5 225.7,-128.5\"/>\n<polygon fill=\"black\" stroke=\"black\" points=\"225.85,-132 235.85,-128.5 225.85,-125 225.85,-132\"/>\n</g>\n<!-- 138169382442896 -->\n<g id=\"node13\" class=\"node\">\n<title>138169382442896</title>\n<polygon fill=\"none\" stroke=\"black\" points=\"1071,-54.5 1071,-90.5 1256,-90.5 1256,-54.5 1071,-54.5\"/>\n<text text-anchor=\"middle\" x=\"1082.5\" y=\"-68.8\" font-family=\"Times,serif\" font-size=\"14.00\">n</text>\n<polyline fill=\"none\" stroke=\"black\" points=\"1094,-54.5 1094,-90.5 \"/>\n<text text-anchor=\"middle\" x=\"1134\" y=\"-68.8\" font-family=\"Times,serif\" font-size=\"14.00\">data 0.8814</text>\n<polyline fill=\"none\" stroke=\"black\" points=\"1174,-54.5 1174,-90.5 \"/>\n<text text-anchor=\"middle\" x=\"1215\" y=\"-68.8\" font-family=\"Times,serif\" font-size=\"14.00\">grad 0.5000</text>\n</g>\n<!-- 138169382442896&#45;&gt;138169382824208tanh -->\n<g id=\"edge11\" class=\"edge\">\n<title>138169382442896&#45;&gt;138169382824208tanh</title>\n<path fill=\"none\" stroke=\"black\" d=\"M1256.01,-72.5C1265.01,-72.5 1273.74,-72.5 1281.66,-72.5\"/>\n<polygon fill=\"black\" stroke=\"black\" points=\"1281.91,-76 1291.91,-72.5 1281.91,-69 1281.91,-76\"/>\n</g>\n<!-- 138169382442896+&#45;&gt;138169382442896 -->\n<g id=\"edge5\" class=\"edge\">\n<title>138169382442896+&#45;&gt;138169382442896</title>\n<path fill=\"none\" stroke=\"black\" d=\"M1035.04,-72.5C1042.58,-72.5 1051.3,-72.5 1060.57,-72.5\"/>\n<polygon fill=\"black\" stroke=\"black\" points=\"1060.81,-76 1070.81,-72.5 1060.81,-69 1060.81,-76\"/>\n</g>\n<!-- 138169382445008 -->\n<g id=\"node15\" class=\"node\">\n<title>138169382445008</title>\n<polygon fill=\"none\" stroke=\"black\" points=\"4,-0.5 4,-36.5 196,-36.5 196,-0.5 4,-0.5\"/>\n<text text-anchor=\"middle\" x=\"19\" y=\"-14.8\" font-family=\"Times,serif\" font-size=\"14.00\">x2</text>\n<polyline fill=\"none\" stroke=\"black\" points=\"34,-0.5 34,-36.5 \"/>\n<text text-anchor=\"middle\" x=\"74\" y=\"-14.8\" font-family=\"Times,serif\" font-size=\"14.00\">data 0.0000</text>\n<polyline fill=\"none\" stroke=\"black\" points=\"114,-0.5 114,-36.5 \"/>\n<text text-anchor=\"middle\" x=\"155\" y=\"-14.8\" font-family=\"Times,serif\" font-size=\"14.00\">grad 0.5000</text>\n</g>\n<!-- 138169382445008&#45;&gt;138169382443088* -->\n<g id=\"edge14\" class=\"edge\">\n<title>138169382445008&#45;&gt;138169382443088*</title>\n<path fill=\"none\" stroke=\"black\" d=\"M169.28,-36.5C179.65,-39.61 190.16,-42.98 200,-46.5 210.28,-50.17 221.28,-54.74 231.11,-59.07\"/>\n<polygon fill=\"black\" stroke=\"black\" points=\"229.93,-62.37 240.48,-63.27 232.79,-55.99 229.93,-62.37\"/>\n</g>\n</g>\n</svg>\n",
            "text/plain": [
              "<graphviz.graphs.Digraph at 0x7daa10f58490>"
            ]
          },
          "metadata": {},
          "execution_count": 100
        }
      ]
    },
    {
      "cell_type": "code",
      "source": [
        "#applying the formula for tanh\n",
        "\n",
        "# inputs x1,x2\n",
        "x1 = Value(2.0, label='x1')\n",
        "x2 = Value(0.0, label='x2')\n",
        "# weights w1,w2\n",
        "w1 = Value(-3.0, label='w1')\n",
        "w2 = Value(1.0, label='w2')\n",
        "# bias of the neuron\n",
        "b = Value(6.8813735870195432, label='b')\n",
        "# x1*w1 + x2*w2 + b\n",
        "x1w1 = x1*w1; x1w1.label = 'x1*w1'\n",
        "x2w2 = x2*w2; x2w2.label = 'x2*w2'\n",
        "x1w1x2w2 = x1w1 + x2w2; x1w1x2w2.label = 'x1*w1 + x2*w2'\n",
        "n = x1w1x2w2 + b; n.label = 'n'\n",
        "\n",
        "#------\n",
        "e = (2*n).exp()\n",
        "o = (e-1) / (e+1)\n",
        "#-------\n",
        "o.backward()\n",
        "draw_dot(o)\n",
        "\n"
      ],
      "metadata": {
        "colab": {
          "base_uri": "https://localhost:8080/",
          "height": 360
        },
        "id": "AgvSJMGaK-e8",
        "outputId": "7ffc0c73-40d2-4393-df22-b2f4e23e452e"
      },
      "id": "AgvSJMGaK-e8",
      "execution_count": null,
      "outputs": [
        {
          "output_type": "execute_result",
          "data": {
            "image/svg+xml": "<?xml version=\"1.0\" encoding=\"UTF-8\" standalone=\"no\"?>\n<!DOCTYPE svg PUBLIC \"-//W3C//DTD SVG 1.1//EN\"\n \"http://www.w3.org/Graphics/SVG/1.1/DTD/svg11.dtd\">\n<!-- Generated by graphviz version 2.43.0 (0)\n -->\n<!-- Title: %3 Pages: 1 -->\n<svg width=\"2941pt\" height=\"239pt\"\n viewBox=\"0.00 0.00 2941.00 239.00\" xmlns=\"http://www.w3.org/2000/svg\" xmlns:xlink=\"http://www.w3.org/1999/xlink\">\n<g id=\"graph0\" class=\"graph\" transform=\"scale(1 1) rotate(0) translate(4 235)\">\n<title>%3</title>\n<polygon fill=\"white\" stroke=\"transparent\" points=\"-4,4 -4,-235 2937,-235 2937,4 -4,4\"/>\n<!-- 138169382751248 -->\n<g id=\"node1\" class=\"node\">\n<title>138169382751248</title>\n<polygon fill=\"none\" stroke=\"black\" points=\"0,-194.5 0,-230.5 200,-230.5 200,-194.5 0,-194.5\"/>\n<text text-anchor=\"middle\" x=\"16.5\" y=\"-208.8\" font-family=\"Times,serif\" font-size=\"14.00\">w1</text>\n<polyline fill=\"none\" stroke=\"black\" points=\"33,-194.5 33,-230.5 \"/>\n<text text-anchor=\"middle\" x=\"75.5\" y=\"-208.8\" font-family=\"Times,serif\" font-size=\"14.00\">data &#45;3.0000</text>\n<polyline fill=\"none\" stroke=\"black\" points=\"118,-194.5 118,-230.5 \"/>\n<text text-anchor=\"middle\" x=\"159\" y=\"-208.8\" font-family=\"Times,serif\" font-size=\"14.00\">grad 1.0000</text>\n</g>\n<!-- 138169382961552* -->\n<g id=\"node9\" class=\"node\">\n<title>138169382961552*</title>\n<ellipse fill=\"none\" stroke=\"black\" cx=\"263\" cy=\"-157.5\" rx=\"27\" ry=\"18\"/>\n<text text-anchor=\"middle\" x=\"263\" y=\"-153.8\" font-family=\"Times,serif\" font-size=\"14.00\">*</text>\n</g>\n<!-- 138169382751248&#45;&gt;138169382961552* -->\n<g id=\"edge26\" class=\"edge\">\n<title>138169382751248&#45;&gt;138169382961552*</title>\n<path fill=\"none\" stroke=\"black\" d=\"M172.53,-194.44C181.84,-191.67 191.2,-188.67 200,-185.5 210.53,-181.71 221.75,-176.9 231.72,-172.33\"/>\n<polygon fill=\"black\" stroke=\"black\" points=\"233.25,-175.48 240.82,-168.07 230.28,-169.14 233.25,-175.48\"/>\n</g>\n<!-- 138169382552080 -->\n<g id=\"node2\" class=\"node\">\n<title>138169382552080</title>\n<polygon fill=\"none\" stroke=\"black\" points=\"1690,-110.5 1690,-146.5 1877,-146.5 1877,-110.5 1690,-110.5\"/>\n<text text-anchor=\"middle\" x=\"1700\" y=\"-124.8\" font-family=\"Times,serif\" font-size=\"14.00\"> </text>\n<polyline fill=\"none\" stroke=\"black\" points=\"1710,-110.5 1710,-146.5 \"/>\n<text text-anchor=\"middle\" x=\"1752.5\" y=\"-124.8\" font-family=\"Times,serif\" font-size=\"14.00\">data &#45;1.0000</text>\n<polyline fill=\"none\" stroke=\"black\" points=\"1795,-110.5 1795,-146.5 \"/>\n<text text-anchor=\"middle\" x=\"1836\" y=\"-124.8\" font-family=\"Times,serif\" font-size=\"14.00\">grad 0.1464</text>\n</g>\n<!-- 138169382559312+ -->\n<g id=\"node4\" class=\"node\">\n<title>138169382559312+</title>\n<ellipse fill=\"none\" stroke=\"black\" cx=\"1940\" cy=\"-100.5\" rx=\"27\" ry=\"18\"/>\n<text text-anchor=\"middle\" x=\"1940\" y=\"-96.8\" font-family=\"Times,serif\" font-size=\"14.00\">+</text>\n</g>\n<!-- 138169382552080&#45;&gt;138169382559312+ -->\n<g id=\"edge18\" class=\"edge\">\n<title>138169382552080&#45;&gt;138169382559312+</title>\n<path fill=\"none\" stroke=\"black\" d=\"M1877.05,-111.73C1886.54,-110.01 1895.71,-108.35 1903.95,-106.85\"/>\n<polygon fill=\"black\" stroke=\"black\" points=\"1904.64,-110.28 1913.85,-105.06 1903.39,-103.4 1904.64,-110.28\"/>\n</g>\n<!-- 138169382559312 -->\n<g id=\"node3\" class=\"node\">\n<title>138169382559312</title>\n<polygon fill=\"none\" stroke=\"black\" points=\"2225,-82.5 2225,-118.5 2407,-118.5 2407,-82.5 2225,-82.5\"/>\n<text text-anchor=\"middle\" x=\"2235\" y=\"-96.8\" font-family=\"Times,serif\" font-size=\"14.00\"> </text>\n<polyline fill=\"none\" stroke=\"black\" points=\"2245,-82.5 2245,-118.5 \"/>\n<text text-anchor=\"middle\" x=\"2285\" y=\"-96.8\" font-family=\"Times,serif\" font-size=\"14.00\">data 4.8284</text>\n<polyline fill=\"none\" stroke=\"black\" points=\"2325,-82.5 2325,-118.5 \"/>\n<text text-anchor=\"middle\" x=\"2366\" y=\"-96.8\" font-family=\"Times,serif\" font-size=\"14.00\">grad 0.1464</text>\n</g>\n<!-- 138169382554704* -->\n<g id=\"node6\" class=\"node\">\n<title>138169382554704*</title>\n<ellipse fill=\"none\" stroke=\"black\" cx=\"2688\" cy=\"-72.5\" rx=\"27\" ry=\"18\"/>\n<text text-anchor=\"middle\" x=\"2688\" y=\"-68.8\" font-family=\"Times,serif\" font-size=\"14.00\">*</text>\n</g>\n<!-- 138169382559312&#45;&gt;138169382554704* -->\n<g id=\"edge23\" class=\"edge\">\n<title>138169382559312&#45;&gt;138169382554704*</title>\n<path fill=\"none\" stroke=\"black\" d=\"M2407.31,-93.9C2468.7,-89.37 2551.76,-83.19 2625,-77.5 2633.42,-76.85 2642.48,-76.13 2651.01,-75.44\"/>\n<polygon fill=\"black\" stroke=\"black\" points=\"2651.37,-78.92 2661.06,-74.63 2650.81,-71.94 2651.37,-78.92\"/>\n</g>\n<!-- 138169382559312+&#45;&gt;138169382559312 -->\n<g id=\"edge1\" class=\"edge\">\n<title>138169382559312+&#45;&gt;138169382559312</title>\n<path fill=\"none\" stroke=\"black\" d=\"M1967,-100.5C2017.46,-100.5 2131.06,-100.5 2214.81,-100.5\"/>\n<polygon fill=\"black\" stroke=\"black\" points=\"2214.87,-104 2224.87,-100.5 2214.87,-97 2214.87,-104\"/>\n</g>\n<!-- 138169382554704 -->\n<g id=\"node5\" class=\"node\">\n<title>138169382554704</title>\n<polygon fill=\"none\" stroke=\"black\" points=\"2751,-54.5 2751,-90.5 2933,-90.5 2933,-54.5 2751,-54.5\"/>\n<text text-anchor=\"middle\" x=\"2761\" y=\"-68.8\" font-family=\"Times,serif\" font-size=\"14.00\"> </text>\n<polyline fill=\"none\" stroke=\"black\" points=\"2771,-54.5 2771,-90.5 \"/>\n<text text-anchor=\"middle\" x=\"2811\" y=\"-68.8\" font-family=\"Times,serif\" font-size=\"14.00\">data 0.7071</text>\n<polyline fill=\"none\" stroke=\"black\" points=\"2851,-54.5 2851,-90.5 \"/>\n<text text-anchor=\"middle\" x=\"2892\" y=\"-68.8\" font-family=\"Times,serif\" font-size=\"14.00\">grad 1.0000</text>\n</g>\n<!-- 138169382554704*&#45;&gt;138169382554704 -->\n<g id=\"edge2\" class=\"edge\">\n<title>138169382554704*&#45;&gt;138169382554704</title>\n<path fill=\"none\" stroke=\"black\" d=\"M2715.13,-72.5C2722.67,-72.5 2731.39,-72.5 2740.64,-72.5\"/>\n<polygon fill=\"black\" stroke=\"black\" points=\"2740.87,-76 2750.87,-72.5 2740.87,-69 2740.87,-76\"/>\n</g>\n<!-- 138169382598288 -->\n<g id=\"node7\" class=\"node\">\n<title>138169382598288</title>\n<polygon fill=\"none\" stroke=\"black\" points=\"1072.5,-28.5 1072.5,-64.5 1254.5,-64.5 1254.5,-28.5 1072.5,-28.5\"/>\n<text text-anchor=\"middle\" x=\"1082.5\" y=\"-42.8\" font-family=\"Times,serif\" font-size=\"14.00\"> </text>\n<polyline fill=\"none\" stroke=\"black\" points=\"1092.5,-28.5 1092.5,-64.5 \"/>\n<text text-anchor=\"middle\" x=\"1132.5\" y=\"-42.8\" font-family=\"Times,serif\" font-size=\"14.00\">data 2.0000</text>\n<polyline fill=\"none\" stroke=\"black\" points=\"1172.5,-28.5 1172.5,-64.5 \"/>\n<text text-anchor=\"middle\" x=\"1213.5\" y=\"-42.8\" font-family=\"Times,serif\" font-size=\"14.00\">grad 0.2203</text>\n</g>\n<!-- 138169382599568* -->\n<g id=\"node25\" class=\"node\">\n<title>138169382599568*</title>\n<ellipse fill=\"none\" stroke=\"black\" cx=\"1319\" cy=\"-73.5\" rx=\"27\" ry=\"18\"/>\n<text text-anchor=\"middle\" x=\"1319\" y=\"-69.8\" font-family=\"Times,serif\" font-size=\"14.00\">*</text>\n</g>\n<!-- 138169382598288&#45;&gt;138169382599568* -->\n<g id=\"edge22\" class=\"edge\">\n<title>138169382598288&#45;&gt;138169382599568*</title>\n<path fill=\"none\" stroke=\"black\" d=\"M1254.68,-62.36C1264.61,-64.11 1274.23,-65.8 1282.84,-67.32\"/>\n<polygon fill=\"black\" stroke=\"black\" points=\"1282.36,-70.78 1292.81,-69.07 1283.57,-63.89 1282.36,-70.78\"/>\n</g>\n<!-- 138169382961552 -->\n<g id=\"node8\" class=\"node\">\n<title>138169382961552</title>\n<polygon fill=\"none\" stroke=\"black\" points=\"326,-139.5 326,-175.5 546,-175.5 546,-139.5 326,-139.5\"/>\n<text text-anchor=\"middle\" x=\"352.5\" y=\"-153.8\" font-family=\"Times,serif\" font-size=\"14.00\">x1*w1</text>\n<polyline fill=\"none\" stroke=\"black\" points=\"379,-139.5 379,-175.5 \"/>\n<text text-anchor=\"middle\" x=\"421.5\" y=\"-153.8\" font-family=\"Times,serif\" font-size=\"14.00\">data &#45;6.0000</text>\n<polyline fill=\"none\" stroke=\"black\" points=\"464,-139.5 464,-175.5 \"/>\n<text text-anchor=\"middle\" x=\"505\" y=\"-153.8\" font-family=\"Times,serif\" font-size=\"14.00\">grad 0.5000</text>\n</g>\n<!-- 138169382584720+ -->\n<g id=\"node28\" class=\"node\">\n<title>138169382584720+</title>\n<ellipse fill=\"none\" stroke=\"black\" cx=\"609\" cy=\"-129.5\" rx=\"27\" ry=\"18\"/>\n<text text-anchor=\"middle\" x=\"609\" y=\"-125.8\" font-family=\"Times,serif\" font-size=\"14.00\">+</text>\n</g>\n<!-- 138169382961552&#45;&gt;138169382584720+ -->\n<g id=\"edge12\" class=\"edge\">\n<title>138169382961552&#45;&gt;138169382584720+</title>\n<path fill=\"none\" stroke=\"black\" d=\"M546.27,-139.61C555.64,-138.07 564.6,-136.61 572.65,-135.29\"/>\n<polygon fill=\"black\" stroke=\"black\" points=\"573.35,-138.72 582.65,-133.65 572.22,-131.81 573.35,-138.72\"/>\n</g>\n<!-- 138169382961552*&#45;&gt;138169382961552 -->\n<g id=\"edge3\" class=\"edge\">\n<title>138169382961552*&#45;&gt;138169382961552</title>\n<path fill=\"none\" stroke=\"black\" d=\"M290.34,-157.5C297.77,-157.5 306.37,-157.5 315.6,-157.5\"/>\n<polygon fill=\"black\" stroke=\"black\" points=\"315.84,-161 325.84,-157.5 315.84,-154 315.84,-161\"/>\n</g>\n<!-- 138169382756752 -->\n<g id=\"node10\" class=\"node\">\n<title>138169382756752</title>\n<polygon fill=\"none\" stroke=\"black\" points=\"4,-84.5 4,-120.5 196,-120.5 196,-84.5 4,-84.5\"/>\n<text text-anchor=\"middle\" x=\"19\" y=\"-98.8\" font-family=\"Times,serif\" font-size=\"14.00\">x2</text>\n<polyline fill=\"none\" stroke=\"black\" points=\"34,-84.5 34,-120.5 \"/>\n<text text-anchor=\"middle\" x=\"74\" y=\"-98.8\" font-family=\"Times,serif\" font-size=\"14.00\">data 0.0000</text>\n<polyline fill=\"none\" stroke=\"black\" points=\"114,-84.5 114,-120.5 \"/>\n<text text-anchor=\"middle\" x=\"155\" y=\"-98.8\" font-family=\"Times,serif\" font-size=\"14.00\">grad 0.5000</text>\n</g>\n<!-- 138169382599504* -->\n<g id=\"node23\" class=\"node\">\n<title>138169382599504*</title>\n<ellipse fill=\"none\" stroke=\"black\" cx=\"263\" cy=\"-102.5\" rx=\"27\" ry=\"18\"/>\n<text text-anchor=\"middle\" x=\"263\" y=\"-98.8\" font-family=\"Times,serif\" font-size=\"14.00\">*</text>\n</g>\n<!-- 138169382756752&#45;&gt;138169382599504* -->\n<g id=\"edge24\" class=\"edge\">\n<title>138169382756752&#45;&gt;138169382599504*</title>\n<path fill=\"none\" stroke=\"black\" d=\"M196.05,-102.5C206.52,-102.5 216.65,-102.5 225.71,-102.5\"/>\n<polygon fill=\"black\" stroke=\"black\" points=\"225.79,-106 235.79,-102.5 225.79,-99 225.79,-106\"/>\n</g>\n<!-- 138169382586576 -->\n<g id=\"node11\" class=\"node\">\n<title>138169382586576</title>\n<polygon fill=\"none\" stroke=\"black\" points=\"716,-56.5 716,-92.5 901,-92.5 901,-56.5 716,-56.5\"/>\n<text text-anchor=\"middle\" x=\"727.5\" y=\"-70.8\" font-family=\"Times,serif\" font-size=\"14.00\">b</text>\n<polyline fill=\"none\" stroke=\"black\" points=\"739,-56.5 739,-92.5 \"/>\n<text text-anchor=\"middle\" x=\"779\" y=\"-70.8\" font-family=\"Times,serif\" font-size=\"14.00\">data 6.8814</text>\n<polyline fill=\"none\" stroke=\"black\" points=\"819,-56.5 819,-92.5 \"/>\n<text text-anchor=\"middle\" x=\"860\" y=\"-70.8\" font-family=\"Times,serif\" font-size=\"14.00\">grad 0.5000</text>\n</g>\n<!-- 138169382599440+ -->\n<g id=\"node17\" class=\"node\">\n<title>138169382599440+</title>\n<ellipse fill=\"none\" stroke=\"black\" cx=\"1008\" cy=\"-101.5\" rx=\"27\" ry=\"18\"/>\n<text text-anchor=\"middle\" x=\"1008\" y=\"-97.8\" font-family=\"Times,serif\" font-size=\"14.00\">+</text>\n</g>\n<!-- 138169382586576&#45;&gt;138169382599440+ -->\n<g id=\"edge19\" class=\"edge\">\n<title>138169382586576&#45;&gt;138169382599440+</title>\n<path fill=\"none\" stroke=\"black\" d=\"M901.02,-87.01C926,-90.43 951.59,-93.93 971.37,-96.63\"/>\n<polygon fill=\"black\" stroke=\"black\" points=\"971.05,-100.12 981.43,-98.01 972,-93.18 971.05,-100.12\"/>\n</g>\n<!-- 138169382566352 -->\n<g id=\"node12\" class=\"node\">\n<title>138169382566352</title>\n<polygon fill=\"none\" stroke=\"black\" points=\"2443,-31.5 2443,-67.5 2625,-67.5 2625,-31.5 2443,-31.5\"/>\n<text text-anchor=\"middle\" x=\"2453\" y=\"-45.8\" font-family=\"Times,serif\" font-size=\"14.00\"> </text>\n<polyline fill=\"none\" stroke=\"black\" points=\"2463,-31.5 2463,-67.5 \"/>\n<text text-anchor=\"middle\" x=\"2503\" y=\"-45.8\" font-family=\"Times,serif\" font-size=\"14.00\">data 0.1464</text>\n<polyline fill=\"none\" stroke=\"black\" points=\"2543,-31.5 2543,-67.5 \"/>\n<text text-anchor=\"middle\" x=\"2584\" y=\"-45.8\" font-family=\"Times,serif\" font-size=\"14.00\">grad 4.8284</text>\n</g>\n<!-- 138169382566352&#45;&gt;138169382554704* -->\n<g id=\"edge20\" class=\"edge\">\n<title>138169382566352&#45;&gt;138169382554704*</title>\n<path fill=\"none\" stroke=\"black\" d=\"M2625.18,-63.15C2634.42,-64.54 2643.38,-65.9 2651.47,-67.12\"/>\n<polygon fill=\"black\" stroke=\"black\" points=\"2651.15,-70.61 2661.56,-68.65 2652.19,-63.69 2651.15,-70.61\"/>\n</g>\n<!-- 138169382566352**&#45;1 -->\n<g id=\"node13\" class=\"node\">\n<title>138169382566352**&#45;1</title>\n<ellipse fill=\"none\" stroke=\"black\" cx=\"2316\" cy=\"-45.5\" rx=\"27\" ry=\"18\"/>\n<text text-anchor=\"middle\" x=\"2316\" y=\"-41.8\" font-family=\"Times,serif\" font-size=\"14.00\">**&#45;1</text>\n</g>\n<!-- 138169382566352**&#45;1&#45;&gt;138169382566352 -->\n<g id=\"edge4\" class=\"edge\">\n<title>138169382566352**&#45;1&#45;&gt;138169382566352</title>\n<path fill=\"none\" stroke=\"black\" d=\"M2343.05,-45.98C2365.53,-46.4 2399.48,-47.03 2432.5,-47.64\"/>\n<polygon fill=\"black\" stroke=\"black\" points=\"2432.64,-51.14 2442.7,-47.83 2432.77,-44.14 2432.64,-51.14\"/>\n</g>\n<!-- 138169382332688 -->\n<g id=\"node14\" class=\"node\">\n<title>138169382332688</title>\n<polygon fill=\"none\" stroke=\"black\" points=\"1692.5,-55.5 1692.5,-91.5 1874.5,-91.5 1874.5,-55.5 1692.5,-55.5\"/>\n<text text-anchor=\"middle\" x=\"1702.5\" y=\"-69.8\" font-family=\"Times,serif\" font-size=\"14.00\"> </text>\n<polyline fill=\"none\" stroke=\"black\" points=\"1712.5,-55.5 1712.5,-91.5 \"/>\n<text text-anchor=\"middle\" x=\"1752.5\" y=\"-69.8\" font-family=\"Times,serif\" font-size=\"14.00\">data 5.8284</text>\n<polyline fill=\"none\" stroke=\"black\" points=\"1792.5,-55.5 1792.5,-91.5 \"/>\n<text text-anchor=\"middle\" x=\"1833.5\" y=\"-69.8\" font-family=\"Times,serif\" font-size=\"14.00\">grad 0.0429</text>\n</g>\n<!-- 138169382332688&#45;&gt;138169382559312+ -->\n<g id=\"edge14\" class=\"edge\">\n<title>138169382332688&#45;&gt;138169382559312+</title>\n<path fill=\"none\" stroke=\"black\" d=\"M1874.82,-89.28C1885.07,-91.08 1895.01,-92.81 1903.88,-94.36\"/>\n<polygon fill=\"black\" stroke=\"black\" points=\"1903.3,-97.81 1913.75,-96.09 1904.5,-90.92 1903.3,-97.81\"/>\n</g>\n<!-- 138169382565136+ -->\n<g id=\"node19\" class=\"node\">\n<title>138169382565136+</title>\n<ellipse fill=\"none\" stroke=\"black\" cx=\"1940\" cy=\"-45.5\" rx=\"27\" ry=\"18\"/>\n<text text-anchor=\"middle\" x=\"1940\" y=\"-41.8\" font-family=\"Times,serif\" font-size=\"14.00\">+</text>\n</g>\n<!-- 138169382332688&#45;&gt;138169382565136+ -->\n<g id=\"edge11\" class=\"edge\">\n<title>138169382332688&#45;&gt;138169382565136+</title>\n<path fill=\"none\" stroke=\"black\" d=\"M1874.82,-57.13C1885.07,-55.27 1895.01,-53.47 1903.88,-51.87\"/>\n<polygon fill=\"black\" stroke=\"black\" points=\"1904.54,-55.3 1913.75,-50.08 1903.29,-48.42 1904.54,-55.3\"/>\n</g>\n<!-- 138169382332688exp -->\n<g id=\"node15\" class=\"node\">\n<title>138169382332688exp</title>\n<ellipse fill=\"none\" stroke=\"black\" cx=\"1627\" cy=\"-73.5\" rx=\"27\" ry=\"18\"/>\n<text text-anchor=\"middle\" x=\"1627\" y=\"-69.8\" font-family=\"Times,serif\" font-size=\"14.00\">exp</text>\n</g>\n<!-- 138169382332688exp&#45;&gt;138169382332688 -->\n<g id=\"edge5\" class=\"edge\">\n<title>138169382332688exp&#45;&gt;138169382332688</title>\n<path fill=\"none\" stroke=\"black\" d=\"M1654.21,-73.5C1662.34,-73.5 1671.85,-73.5 1681.94,-73.5\"/>\n<polygon fill=\"black\" stroke=\"black\" points=\"1682.19,-77 1692.19,-73.5 1682.19,-70 1682.19,-77\"/>\n</g>\n<!-- 138169382599440 -->\n<g id=\"node16\" class=\"node\">\n<title>138169382599440</title>\n<polygon fill=\"none\" stroke=\"black\" points=\"1071,-83.5 1071,-119.5 1256,-119.5 1256,-83.5 1071,-83.5\"/>\n<text text-anchor=\"middle\" x=\"1082.5\" y=\"-97.8\" font-family=\"Times,serif\" font-size=\"14.00\">n</text>\n<polyline fill=\"none\" stroke=\"black\" points=\"1094,-83.5 1094,-119.5 \"/>\n<text text-anchor=\"middle\" x=\"1134\" y=\"-97.8\" font-family=\"Times,serif\" font-size=\"14.00\">data 0.8814</text>\n<polyline fill=\"none\" stroke=\"black\" points=\"1174,-83.5 1174,-119.5 \"/>\n<text text-anchor=\"middle\" x=\"1215\" y=\"-97.8\" font-family=\"Times,serif\" font-size=\"14.00\">grad 0.5000</text>\n</g>\n<!-- 138169382599440&#45;&gt;138169382599568* -->\n<g id=\"edge27\" class=\"edge\">\n<title>138169382599440&#45;&gt;138169382599568*</title>\n<path fill=\"none\" stroke=\"black\" d=\"M1256.01,-84.81C1265.49,-83.08 1274.66,-81.41 1282.9,-79.9\"/>\n<polygon fill=\"black\" stroke=\"black\" points=\"1283.6,-83.33 1292.81,-78.09 1282.35,-76.45 1283.6,-83.33\"/>\n</g>\n<!-- 138169382599440+&#45;&gt;138169382599440 -->\n<g id=\"edge6\" class=\"edge\">\n<title>138169382599440+&#45;&gt;138169382599440</title>\n<path fill=\"none\" stroke=\"black\" d=\"M1035.04,-101.5C1042.58,-101.5 1051.3,-101.5 1060.57,-101.5\"/>\n<polygon fill=\"black\" stroke=\"black\" points=\"1060.81,-105 1070.81,-101.5 1060.81,-98 1060.81,-105\"/>\n</g>\n<!-- 138169382565136 -->\n<g id=\"node18\" class=\"node\">\n<title>138169382565136</title>\n<polygon fill=\"none\" stroke=\"black\" points=\"2003,-27.5 2003,-63.5 2189,-63.5 2189,-27.5 2003,-27.5\"/>\n<text text-anchor=\"middle\" x=\"2013\" y=\"-41.8\" font-family=\"Times,serif\" font-size=\"14.00\"> </text>\n<polyline fill=\"none\" stroke=\"black\" points=\"2023,-27.5 2023,-63.5 \"/>\n<text text-anchor=\"middle\" x=\"2063\" y=\"-41.8\" font-family=\"Times,serif\" font-size=\"14.00\">data 6.8284</text>\n<polyline fill=\"none\" stroke=\"black\" points=\"2103,-27.5 2103,-63.5 \"/>\n<text text-anchor=\"middle\" x=\"2146\" y=\"-41.8\" font-family=\"Times,serif\" font-size=\"14.00\">grad &#45;0.1036</text>\n</g>\n<!-- 138169382565136&#45;&gt;138169382566352**&#45;1 -->\n<g id=\"edge28\" class=\"edge\">\n<title>138169382565136&#45;&gt;138169382566352**&#45;1</title>\n<path fill=\"none\" stroke=\"black\" d=\"M2189.14,-45.5C2220.72,-45.5 2254.24,-45.5 2278.74,-45.5\"/>\n<polygon fill=\"black\" stroke=\"black\" points=\"2278.98,-49 2288.98,-45.5 2278.98,-42 2278.98,-49\"/>\n</g>\n<!-- 138169382565136+&#45;&gt;138169382565136 -->\n<g id=\"edge7\" class=\"edge\">\n<title>138169382565136+&#45;&gt;138169382565136</title>\n<path fill=\"none\" stroke=\"black\" d=\"M1967.12,-45.5C1974.62,-45.5 1983.29,-45.5 1992.5,-45.5\"/>\n<polygon fill=\"black\" stroke=\"black\" points=\"1992.69,-49 2002.69,-45.5 1992.69,-42 1992.69,-49\"/>\n</g>\n<!-- 138169382563216 -->\n<g id=\"node20\" class=\"node\">\n<title>138169382563216</title>\n<polygon fill=\"none\" stroke=\"black\" points=\"1690.5,-0.5 1690.5,-36.5 1876.5,-36.5 1876.5,-0.5 1690.5,-0.5\"/>\n<text text-anchor=\"middle\" x=\"1700.5\" y=\"-14.8\" font-family=\"Times,serif\" font-size=\"14.00\"> </text>\n<polyline fill=\"none\" stroke=\"black\" points=\"1710.5,-0.5 1710.5,-36.5 \"/>\n<text text-anchor=\"middle\" x=\"1750.5\" y=\"-14.8\" font-family=\"Times,serif\" font-size=\"14.00\">data 1.0000</text>\n<polyline fill=\"none\" stroke=\"black\" points=\"1790.5,-0.5 1790.5,-36.5 \"/>\n<text text-anchor=\"middle\" x=\"1833.5\" y=\"-14.8\" font-family=\"Times,serif\" font-size=\"14.00\">grad &#45;0.1036</text>\n</g>\n<!-- 138169382563216&#45;&gt;138169382565136+ -->\n<g id=\"edge17\" class=\"edge\">\n<title>138169382563216&#45;&gt;138169382565136+</title>\n<path fill=\"none\" stroke=\"black\" d=\"M1876.6,-34.6C1886.15,-36.26 1895.37,-37.88 1903.68,-39.33\"/>\n<polygon fill=\"black\" stroke=\"black\" points=\"1903.2,-42.8 1913.65,-41.07 1904.4,-35.9 1903.2,-42.8\"/>\n</g>\n<!-- 138169382764368 -->\n<g id=\"node21\" class=\"node\">\n<title>138169382764368</title>\n<polygon fill=\"none\" stroke=\"black\" points=\"2,-139.5 2,-175.5 198,-175.5 198,-139.5 2,-139.5\"/>\n<text text-anchor=\"middle\" x=\"17\" y=\"-153.8\" font-family=\"Times,serif\" font-size=\"14.00\">x1</text>\n<polyline fill=\"none\" stroke=\"black\" points=\"32,-139.5 32,-175.5 \"/>\n<text text-anchor=\"middle\" x=\"72\" y=\"-153.8\" font-family=\"Times,serif\" font-size=\"14.00\">data 2.0000</text>\n<polyline fill=\"none\" stroke=\"black\" points=\"112,-139.5 112,-175.5 \"/>\n<text text-anchor=\"middle\" x=\"155\" y=\"-153.8\" font-family=\"Times,serif\" font-size=\"14.00\">grad &#45;1.5000</text>\n</g>\n<!-- 138169382764368&#45;&gt;138169382961552* -->\n<g id=\"edge25\" class=\"edge\">\n<title>138169382764368&#45;&gt;138169382961552*</title>\n<path fill=\"none\" stroke=\"black\" d=\"M198.37,-157.5C208.05,-157.5 217.4,-157.5 225.8,-157.5\"/>\n<polygon fill=\"black\" stroke=\"black\" points=\"225.91,-161 235.91,-157.5 225.91,-154 225.91,-161\"/>\n</g>\n<!-- 138169382599504 -->\n<g id=\"node22\" class=\"node\">\n<title>138169382599504</title>\n<polygon fill=\"none\" stroke=\"black\" points=\"328.5,-84.5 328.5,-120.5 543.5,-120.5 543.5,-84.5 328.5,-84.5\"/>\n<text text-anchor=\"middle\" x=\"355\" y=\"-98.8\" font-family=\"Times,serif\" font-size=\"14.00\">x2*w2</text>\n<polyline fill=\"none\" stroke=\"black\" points=\"381.5,-84.5 381.5,-120.5 \"/>\n<text text-anchor=\"middle\" x=\"421.5\" y=\"-98.8\" font-family=\"Times,serif\" font-size=\"14.00\">data 0.0000</text>\n<polyline fill=\"none\" stroke=\"black\" points=\"461.5,-84.5 461.5,-120.5 \"/>\n<text text-anchor=\"middle\" x=\"502.5\" y=\"-98.8\" font-family=\"Times,serif\" font-size=\"14.00\">grad 0.5000</text>\n</g>\n<!-- 138169382599504&#45;&gt;138169382584720+ -->\n<g id=\"edge21\" class=\"edge\">\n<title>138169382599504&#45;&gt;138169382584720+</title>\n<path fill=\"none\" stroke=\"black\" d=\"M543.84,-119.37C554.01,-120.98 563.76,-122.51 572.44,-123.89\"/>\n<polygon fill=\"black\" stroke=\"black\" points=\"572.05,-127.37 582.47,-125.47 573.14,-120.45 572.05,-127.37\"/>\n</g>\n<!-- 138169382599504*&#45;&gt;138169382599504 -->\n<g id=\"edge8\" class=\"edge\">\n<title>138169382599504*&#45;&gt;138169382599504</title>\n<path fill=\"none\" stroke=\"black\" d=\"M290.34,-102.5C298.51,-102.5 308.08,-102.5 318.36,-102.5\"/>\n<polygon fill=\"black\" stroke=\"black\" points=\"318.39,-106 328.39,-102.5 318.39,-99 318.39,-106\"/>\n</g>\n<!-- 138169382599568 -->\n<g id=\"node24\" class=\"node\">\n<title>138169382599568</title>\n<polygon fill=\"none\" stroke=\"black\" points=\"1382,-55.5 1382,-91.5 1564,-91.5 1564,-55.5 1382,-55.5\"/>\n<text text-anchor=\"middle\" x=\"1392\" y=\"-69.8\" font-family=\"Times,serif\" font-size=\"14.00\"> </text>\n<polyline fill=\"none\" stroke=\"black\" points=\"1402,-55.5 1402,-91.5 \"/>\n<text text-anchor=\"middle\" x=\"1442\" y=\"-69.8\" font-family=\"Times,serif\" font-size=\"14.00\">data 1.7627</text>\n<polyline fill=\"none\" stroke=\"black\" points=\"1482,-55.5 1482,-91.5 \"/>\n<text text-anchor=\"middle\" x=\"1523\" y=\"-69.8\" font-family=\"Times,serif\" font-size=\"14.00\">grad 0.2500</text>\n</g>\n<!-- 138169382599568&#45;&gt;138169382332688exp -->\n<g id=\"edge13\" class=\"edge\">\n<title>138169382599568&#45;&gt;138169382332688exp</title>\n<path fill=\"none\" stroke=\"black\" d=\"M1564.18,-73.5C1573.14,-73.5 1581.83,-73.5 1589.73,-73.5\"/>\n<polygon fill=\"black\" stroke=\"black\" points=\"1589.96,-77 1599.96,-73.5 1589.96,-70 1589.96,-77\"/>\n</g>\n<!-- 138169382599568*&#45;&gt;138169382599568 -->\n<g id=\"edge9\" class=\"edge\">\n<title>138169382599568*&#45;&gt;138169382599568</title>\n<path fill=\"none\" stroke=\"black\" d=\"M1346.13,-73.5C1353.67,-73.5 1362.39,-73.5 1371.64,-73.5\"/>\n<polygon fill=\"black\" stroke=\"black\" points=\"1371.87,-77 1381.87,-73.5 1371.87,-70 1371.87,-77\"/>\n</g>\n<!-- 138169382598544 -->\n<g id=\"node26\" class=\"node\">\n<title>138169382598544</title>\n<polygon fill=\"none\" stroke=\"black\" points=\"2.5,-29.5 2.5,-65.5 197.5,-65.5 197.5,-29.5 2.5,-29.5\"/>\n<text text-anchor=\"middle\" x=\"19\" y=\"-43.8\" font-family=\"Times,serif\" font-size=\"14.00\">w2</text>\n<polyline fill=\"none\" stroke=\"black\" points=\"35.5,-29.5 35.5,-65.5 \"/>\n<text text-anchor=\"middle\" x=\"75.5\" y=\"-43.8\" font-family=\"Times,serif\" font-size=\"14.00\">data 1.0000</text>\n<polyline fill=\"none\" stroke=\"black\" points=\"115.5,-29.5 115.5,-65.5 \"/>\n<text text-anchor=\"middle\" x=\"156.5\" y=\"-43.8\" font-family=\"Times,serif\" font-size=\"14.00\">grad 0.0000</text>\n</g>\n<!-- 138169382598544&#45;&gt;138169382599504* -->\n<g id=\"edge16\" class=\"edge\">\n<title>138169382598544&#45;&gt;138169382599504*</title>\n<path fill=\"none\" stroke=\"black\" d=\"M169.28,-65.5C179.65,-68.61 190.16,-71.98 200,-75.5 210.28,-79.17 221.28,-83.74 231.11,-88.07\"/>\n<polygon fill=\"black\" stroke=\"black\" points=\"229.93,-91.37 240.48,-92.27 232.79,-84.99 229.93,-91.37\"/>\n</g>\n<!-- 138169382584720 -->\n<g id=\"node27\" class=\"node\">\n<title>138169382584720</title>\n<polygon fill=\"none\" stroke=\"black\" points=\"672,-111.5 672,-147.5 945,-147.5 945,-111.5 672,-111.5\"/>\n<text text-anchor=\"middle\" x=\"725\" y=\"-125.8\" font-family=\"Times,serif\" font-size=\"14.00\">x1*w1 + x2*w2</text>\n<polyline fill=\"none\" stroke=\"black\" points=\"778,-111.5 778,-147.5 \"/>\n<text text-anchor=\"middle\" x=\"820.5\" y=\"-125.8\" font-family=\"Times,serif\" font-size=\"14.00\">data &#45;6.0000</text>\n<polyline fill=\"none\" stroke=\"black\" points=\"863,-111.5 863,-147.5 \"/>\n<text text-anchor=\"middle\" x=\"904\" y=\"-125.8\" font-family=\"Times,serif\" font-size=\"14.00\">grad 0.5000</text>\n</g>\n<!-- 138169382584720&#45;&gt;138169382599440+ -->\n<g id=\"edge15\" class=\"edge\">\n<title>138169382584720&#45;&gt;138169382599440+</title>\n<path fill=\"none\" stroke=\"black\" d=\"M936.53,-111.49C949.09,-109.71 960.99,-108.02 971.3,-106.56\"/>\n<polygon fill=\"black\" stroke=\"black\" points=\"972.03,-109.99 981.44,-105.12 971.05,-103.06 972.03,-109.99\"/>\n</g>\n<!-- 138169382584720+&#45;&gt;138169382584720 -->\n<g id=\"edge10\" class=\"edge\">\n<title>138169382584720+&#45;&gt;138169382584720</title>\n<path fill=\"none\" stroke=\"black\" d=\"M636.23,-129.5C643.7,-129.5 652.41,-129.5 661.87,-129.5\"/>\n<polygon fill=\"black\" stroke=\"black\" points=\"661.98,-133 671.98,-129.5 661.98,-126 661.98,-133\"/>\n</g>\n</g>\n</svg>\n",
            "text/plain": [
              "<graphviz.graphs.Digraph at 0x7daa10f77750>"
            ]
          },
          "metadata": {},
          "execution_count": 103
        }
      ]
    },
    {
      "cell_type": "code",
      "source": [
        "#Lets do it through pytorch\n",
        "\n",
        "import torch"
      ],
      "metadata": {
        "id": "7RRayeIvM8BD"
      },
      "id": "7RRayeIvM8BD",
      "execution_count": null,
      "outputs": []
    },
    {
      "cell_type": "code",
      "source": [
        "x1 = torch.Tensor([2.0]).double()               ; x1.requires_grad = True\n",
        "x2 = torch.Tensor([0.0]).double()                ; x2.requires_grad = True\n",
        "w1 = torch.Tensor([-3.0]).double()               ; w1.requires_grad = True\n",
        "w2 = torch.Tensor([1.0]).double()                ; w2.requires_grad = True\n",
        "b = torch.Tensor([6.8813735870195432]).double()  ; b.requires_grad = True\n",
        "n = x1*w1 + x2*w2 + b\n",
        "o = torch.tanh(n)\n",
        "\n",
        "print(o.data.item())\n",
        "o.backward()\n",
        "\n",
        "print('---')\n",
        "print('x2', x2.grad.item())\n",
        "print('w2', w2.grad.item())\n",
        "print('x1', x1.grad.item())\n",
        "print('w1', w1.grad.item())"
      ],
      "metadata": {
        "colab": {
          "base_uri": "https://localhost:8080/"
        },
        "id": "ON8aQSz7NAmg",
        "outputId": "839979cf-7881-473a-8fb1-30f4c3214bdd"
      },
      "id": "ON8aQSz7NAmg",
      "execution_count": null,
      "outputs": [
        {
          "output_type": "stream",
          "name": "stdout",
          "text": [
            "0.7071066904050358\n",
            "---\n",
            "x2 0.5000001283844369\n",
            "w2 0.0\n",
            "x1 -1.5000003851533106\n",
            "w1 1.0000002567688737\n"
          ]
        }
      ]
    },
    {
      "cell_type": "code",
      "source": [
        "class Neuron: #single linear layer\n",
        "\n",
        "  def __init__(self,nin):\n",
        "    self.w = [Value(random.uniform(-1,1)) for _ in range(nin)]\n",
        "    self.b = Value(random.uniform(-1,1))\n",
        "\n",
        "\n",
        "  def __call__(self,x):\n",
        "    act = sum((wi*xi for wi,xi in zip(self.w,x)),self.b)\n",
        "    out = act.tanh()\n",
        "    return out\n",
        "\n",
        "  def parameters(self):\n",
        "    return self.w + [self.b]\n",
        "\n",
        "class Layer: #nn.Linear layer torch.tanh(nn.Linear(nin,nout))\n",
        "  def __init__(self,nin,nout):\n",
        "    self.neurons = [Neuron(nin) for _ in range(nout)]\n",
        "\n",
        "  def __call__(self,x):\n",
        "    outs = [n(x) for n in self.neurons]\n",
        "    return outs[0] if len(outs) == 1 else outs\n",
        "\n",
        "  def parameters(self):\n",
        "    return [p for neuron in self.neurons for p in neuron.parameters()]\n",
        "\n",
        "class MLP:\n",
        "\n",
        "  def __init__(self, nin, nouts):\n",
        "    sz = [nin] + nouts\n",
        "    self.layers = [Layer(sz[i], sz[i+1]) for i in range(len(nouts))]\n",
        "\n",
        "  def __call__(self, x):\n",
        "    for layer in self.layers:\n",
        "      x = layer(x)\n",
        "    return x\n",
        "\n",
        "  def parameters(self):\n",
        "    return [p for layer in self.layers for p in layer.parameters()]\n",
        "\n",
        "x = [2.0,3.0]\n",
        "n = Neuron(2)\n",
        "# n(x)\n",
        "# l = Layer(2,3)\n",
        "m = MLP(3,[4,4,1])\n",
        "m(x)"
      ],
      "metadata": {
        "colab": {
          "base_uri": "https://localhost:8080/"
        },
        "id": "hoHjveWGNOCQ",
        "outputId": "718b0a80-1a2f-4459-9179-887f67a682fa"
      },
      "id": "hoHjveWGNOCQ",
      "execution_count": null,
      "outputs": [
        {
          "output_type": "execute_result",
          "data": {
            "text/plain": [
              "Value(data=0.18340736161989973)"
            ]
          },
          "metadata": {},
          "execution_count": 130
        }
      ]
    },
    {
      "cell_type": "code",
      "source": [
        "# draw_dot(m(x))\n",
        "x = [2.0, 3.0, -1.0]\n",
        "n = MLP(3, [4, 4, 1])\n",
        "n(x)"
      ],
      "metadata": {
        "colab": {
          "base_uri": "https://localhost:8080/"
        },
        "id": "4OUGM-H4dYeK",
        "outputId": "034b8f51-18b1-4eff-f3c0-d9fa039a654a"
      },
      "id": "4OUGM-H4dYeK",
      "execution_count": null,
      "outputs": [
        {
          "output_type": "execute_result",
          "data": {
            "text/plain": [
              "Value(data=0.8030928021400533)"
            ]
          },
          "metadata": {},
          "execution_count": 133
        }
      ]
    },
    {
      "cell_type": "code",
      "source": [
        "n.parameters(),len(n.parameters())"
      ],
      "metadata": {
        "colab": {
          "base_uri": "https://localhost:8080/"
        },
        "id": "jbfd0QvAkAD9",
        "outputId": "7f799038-672b-4ecf-8908-de981a7e3b04"
      },
      "id": "jbfd0QvAkAD9",
      "execution_count": null,
      "outputs": [
        {
          "output_type": "execute_result",
          "data": {
            "text/plain": [
              "([Value(data=1.0612787974829532),\n",
              "  Value(data=0.25368212872424717),\n",
              "  Value(data=-0.0821977145297081),\n",
              "  Value(data=0.05062886782138581),\n",
              "  Value(data=-0.1940364302471771),\n",
              "  Value(data=0.7227516810445789),\n",
              "  Value(data=-1.0537208292447646),\n",
              "  Value(data=-0.16495128107173646),\n",
              "  Value(data=1.2053376410552006),\n",
              "  Value(data=0.9516500739404518),\n",
              "  Value(data=-0.21542670074836856),\n",
              "  Value(data=-0.1887336160638539),\n",
              "  Value(data=-0.3365777544425374),\n",
              "  Value(data=-0.852600867341647),\n",
              "  Value(data=0.9672140342278819),\n",
              "  Value(data=0.8285010496865871),\n",
              "  Value(data=-0.5188174452335277),\n",
              "  Value(data=0.43069041035144523),\n",
              "  Value(data=-0.46445427668823563),\n",
              "  Value(data=-1.0319580659589909),\n",
              "  Value(data=0.31669693600676135),\n",
              "  Value(data=0.3710369499703513),\n",
              "  Value(data=-0.7771545876472659),\n",
              "  Value(data=0.8535734414505922),\n",
              "  Value(data=0.8954986933220568),\n",
              "  Value(data=-0.4134134239915664),\n",
              "  Value(data=-0.155230482095226),\n",
              "  Value(data=0.6305607460417267),\n",
              "  Value(data=-0.44106880263537723),\n",
              "  Value(data=0.062020499157028015),\n",
              "  Value(data=-0.06284682640118323),\n",
              "  Value(data=0.35039275909721),\n",
              "  Value(data=-0.6071031082149357),\n",
              "  Value(data=0.399266404812767),\n",
              "  Value(data=0.8963099821946741),\n",
              "  Value(data=0.8122013721082194),\n",
              "  Value(data=0.9972929214349215),\n",
              "  Value(data=-1.0203195978009154),\n",
              "  Value(data=0.5839602944297351),\n",
              "  Value(data=-0.14862247897761402),\n",
              "  Value(data=0.6720665484652691)],\n",
              " 41)"
            ]
          },
          "metadata": {},
          "execution_count": 139
        }
      ]
    },
    {
      "cell_type": "code",
      "source": [
        "xs = [\n",
        "  [2.0, 3.0, -1.0],\n",
        "  [3.0, -1.0, 0.5],\n",
        "  [0.5, 1.0, 1.0],\n",
        "  [1.0, 1.0, -1.0],\n",
        "]\n",
        "ys = [1.0, -1.0, -1.0, 1.0] # desired targets"
      ],
      "metadata": {
        "id": "7J2cY-r3exyS"
      },
      "id": "7J2cY-r3exyS",
      "execution_count": null,
      "outputs": []
    },
    {
      "cell_type": "code",
      "source": [
        "loss = sum((yout-yg)**2 for yg,yout in zip(targets,ypred))\n",
        "loss"
      ],
      "metadata": {
        "colab": {
          "base_uri": "https://localhost:8080/"
        },
        "id": "TVl5ESsdfoZE",
        "outputId": "7b1035f0-44b3-406e-fe76-df727f17394c"
      },
      "id": "TVl5ESsdfoZE",
      "execution_count": null,
      "outputs": [
        {
          "output_type": "execute_result",
          "data": {
            "text/plain": [
              "Value(data=4.2144782397635)"
            ]
          },
          "metadata": {},
          "execution_count": 135
        }
      ]
    },
    {
      "cell_type": "code",
      "source": [
        "for k in range(20):\n",
        "\n",
        "  # forward pass\n",
        "  ypred = [n(x) for x in xs]\n",
        "  loss = sum((yout - ygt)**2 for ygt, yout in zip(ys, ypred))\n",
        "\n",
        "  # backward pass\n",
        "  for p in n.parameters():\n",
        "    p.grad = 0.0 #optimizer .zero_grad cuz as we updated the parameters we dont flush the grads cuz they need to be recalculated\n",
        "    #otherwise they will be keep on getting added\n",
        "  loss.backward()\n",
        "\n",
        "  # update\n",
        "  for p in n.parameters():\n",
        "    p.data += -0.1 * p.grad\n",
        "\n",
        "  print(k, loss.data)"
      ],
      "metadata": {
        "colab": {
          "base_uri": "https://localhost:8080/"
        },
        "id": "shzHLpPwjOo4",
        "outputId": "554e1c52-bd3d-4f6b-b0e9-7bd4e6621269"
      },
      "id": "shzHLpPwjOo4",
      "execution_count": null,
      "outputs": [
        {
          "output_type": "stream",
          "name": "stdout",
          "text": [
            "0 6.134759822461349\n",
            "1 1.877307021922122\n",
            "2 0.05312910130923699\n",
            "3 0.043505583439344644\n",
            "4 0.037073852745019995\n",
            "5 0.03239138292059858\n",
            "6 0.02879589352811858\n",
            "7 0.02593279291729876\n",
            "8 0.023591597004341935\n",
            "9 0.021637846791105253\n",
            "10 0.019980838810416745\n",
            "11 0.018556770623826498\n",
            "12 0.017319251590306596\n",
            "13 0.016233633169722105\n",
            "14 0.015273454741441834\n",
            "15 0.014418125929457773\n",
            "16 0.013651364670621668\n",
            "17 0.012960114861274158\n",
            "18 0.012333778212604648\n",
            "19 0.011763657702553353\n"
          ]
        }
      ]
    },
    {
      "cell_type": "code",
      "source": [],
      "metadata": {
        "id": "3NnLJN6cj60w"
      },
      "id": "3NnLJN6cj60w",
      "execution_count": null,
      "outputs": []
    }
  ],
  "metadata": {
    "kernelspec": {
      "display_name": "Python 3.13",
      "language": "python",
      "name": "py313"
    },
    "language_info": {
      "codemirror_mode": {
        "name": "ipython",
        "version": 3
      },
      "file_extension": ".py",
      "mimetype": "text/x-python",
      "name": "python",
      "nbconvert_exporter": "python",
      "pygments_lexer": "ipython3",
      "version": "3.13.3"
    },
    "colab": {
      "provenance": []
    }
  },
  "nbformat": 4,
  "nbformat_minor": 5
}